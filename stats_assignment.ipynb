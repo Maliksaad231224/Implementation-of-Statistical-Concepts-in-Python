{
 "cells": [
  {
   "cell_type": "markdown",
   "metadata": {
    "id": "NPmtticQSsZ8"
   },
   "source": [
    "# **<center>PYTHON IMPLEMENTATION OF STATISTICAL TECHNIQUES<center>**"
   ]
  },
  {
   "cell_type": "markdown",
   "metadata": {
    "id": "uXoQynpJSsZ-"
   },
   "source": [
    "## **OBJECTIVE**\n",
    "The objective is to implement basic statistical techniques in Python. These Techniques include\n",
    "<ol>\n",
    "<li>Frequency Distribution</li>\n",
    "<li>Graphical Representation of Data for grouped and ungrouped data.</li>\n",
    "<li>Arithematic Mean </li>\n",
    "<li>Geometric Mean</li>\n",
    "<li>Harmonic Mean</li>\n",
    "<li>Median</li>\n",
    "<li>Mode</li>\n",
    "<li>Quartiles</li>\n",
    "<li>Measures of Dispersion</li>\n",
    "</ol>"
   ]
  },
  {
   "cell_type": "markdown",
   "metadata": {
    "id": "g-a8Xss8SsZ_"
   },
   "source": [
    "## **INSTALLING THE NECESSARY LIBRARIES**"
   ]
  },
  {
   "cell_type": "code",
   "execution_count": null,
   "metadata": {
    "id": "RZZMUlelSsZ_"
   },
   "outputs": [],
   "source": [
    "!pip install pandas\n",
    "!pip install numpy\n",
    "!pip install matplotlib\n",
    "!pip install seaborn"
   ]
  },
  {
   "cell_type": "markdown",
   "metadata": {
    "id": "kyvpmH3BSsaA"
   },
   "source": [
    "## **IMPORTING THE LIBRARIES**\n",
    "\n",
    "<OL>\n",
    "<li><b>Pandas:</b> Popular Library for Data Analysis and Manipulation. It provides data structures like dataframes(2-D data structures) and pandas series(1-D data structures). See documentation at <a href='https://pandas.pydata.org/docs/user_guide/index.html'>Pandas Documentation</a></li>\n",
    "<li><b>Numpy: </b> Python library for mathematical computation. See documentation at <a href='https://numpy.org/devdocs/user/index.html#user'>Numpy Documentation</a></li>\n",
    "<li> <b>Matplotlib:</b> Popular Visulaization library that provides 2-D and 3-D graphs and charts. See documentation at <a href='https://matplotlib.org/stable/users/index.html'>Matplotlib Documentation</a></li>\n",
    "<li> <b>Seaborn:</b> Advanced visualziation library built on top of Matplotlib. It provides highly attractive graphs and is mostly use for statistical analysis. <a href='https://seaborn.pydata.org/tutorial/introduction.html'>Seaborn Documentation</a></li>\n",
    "</OL>"
   ]
  },
  {
   "cell_type": "code",
   "execution_count": 1,
   "metadata": {
    "id": "2t9tr3qZSsaA"
   },
   "outputs": [],
   "source": [
    "import pandas as pd\n",
    "import numpy as np\n",
    "import matplotlib.pyplot as plt\n",
    "from scipy import stats\n",
    "import seaborn as sns"
   ]
  },
  {
   "cell_type": "markdown",
   "metadata": {
    "id": "yJLiwIYASsaA"
   },
   "source": [
    "## **1. Frequency Distribution**"
   ]
  },
  {
   "cell_type": "markdown",
   "metadata": {
    "id": "mKvwgc3jSsaA"
   },
   "source": [
    "The organization of raw data in table form with classes\n",
    "and frequencies is called frequency distribution.\n",
    "Finding the frequency distribution involves following steps<br>\n",
    "\n",
    "\n",
    "<ul>\n",
    "<li>Sort the data in ascending order</li>\n",
    "<li>Determine number of Classes</li>\n",
    "<li>Determine the range of the data by subtracting the largest and smallest value</li>\n",
    "<li>Find class interval</li>\n",
    "<li>Determine lower class limit and upper class limit</li>\n",
    "<li>Determine frequency and class mark of each class</li>\n",
    "</ul>\n"
   ]
  },
  {
   "cell_type": "markdown",
   "metadata": {
    "id": "R6wHSR0DSsaA"
   },
   "source": [
    "### 1. Sorting The Data"
   ]
  },
  {
   "cell_type": "code",
   "execution_count": null,
   "metadata": {
    "id": "ffBCkbBoSsaB"
   },
   "outputs": [],
   "source": [
    "list=[ 36.3 ,42.1, 44.9,\n",
    "30.1 ,37.5 ,32.9,\n",
    "40.5, 40.0 ,40.2,\n",
    "36.2 ,35.6 ,35.9,\n",
    "38.5 ,38.8 ,38.6,\n",
    "36.3 ,38.4 ,40.5,\n",
    "41.0 ,39.0, 37.0\n",
    ",37.0, 36.7, 37.1\n",
    ",37.1 ,34.8, 33.9\n",
    ",39.9 ,38.1 ,39.8]\n",
    "list.sort()\n"
   ]
  },
  {
   "cell_type": "markdown",
   "metadata": {
    "id": "PJYdRdL1SsaB"
   },
   "source": [
    "### 2. Finding Max, Min Value and Class Interval"
   ]
  },
  {
   "cell_type": "code",
   "execution_count": null,
   "metadata": {
    "id": "ub5rKZLVSsaB",
    "outputId": "81088f5e-767e-4498-f576-4db7ff5ba26b"
   },
   "outputs": [
    {
     "name": "stdout",
     "output_type": "stream",
     "text": [
      "Smallest value is 30.1 .Largest value is 44.9\n"
     ]
    }
   ],
   "source": [
    "\n",
    "smallest=min(list)\n",
    "largest=max(list)\n",
    "\n",
    "Range=largest-smallest\n",
    "classes=5\n",
    "class_interval=round(Range/classes,0)\n",
    "print(\"Smallest value is\",smallest,'.Largest value is',largest)"
   ]
  },
  {
   "cell_type": "code",
   "execution_count": null,
   "metadata": {
    "id": "tbxwQIIQSsaB",
    "outputId": "bc8caed7-f4a8-4d8f-f30f-957ce5b3237d"
   },
   "outputs": [
    {
     "data": {
      "text/plain": [
       "30.0"
      ]
     },
     "execution_count": 538,
     "metadata": {},
     "output_type": "execute_result"
    }
   ],
   "source": [
    "smallest=smallest-0.1\n",
    "smallest"
   ]
  },
  {
   "cell_type": "markdown",
   "metadata": {
    "id": "Hot19C-pSsaC"
   },
   "source": [
    "### 3. Finding the Lower Class Boundary"
   ]
  },
  {
   "cell_type": "code",
   "execution_count": null,
   "metadata": {
    "id": "Clq-H72VSsaC",
    "outputId": "209af654-585b-4eae-dd25-603da3640c47"
   },
   "outputs": [
    {
     "data": {
      "text/plain": [
       "[30.0, 33.0, 36.0, 39.0, 42.0]"
      ]
     },
     "execution_count": 539,
     "metadata": {},
     "output_type": "execute_result"
    }
   ],
   "source": [
    "lower_class_intervals=[]\n",
    "start=smallest\n",
    "lower_class_intervals.append(smallest)\n",
    "for i in range(classes-1):\n",
    "    end=start+class_interval\n",
    "    lower_class_intervals.append(end)\n",
    "    start=end\n",
    "\n",
    "lower_class_intervals"
   ]
  },
  {
   "cell_type": "markdown",
   "metadata": {
    "id": "8T8fhceJSsaC"
   },
   "source": [
    "### 4. Finding Upper Class Boundary"
   ]
  },
  {
   "cell_type": "code",
   "execution_count": null,
   "metadata": {
    "id": "NZMn-ZKSSsaC",
    "outputId": "fa35cbe1-9acd-41b5-c626-450f51eaf043"
   },
   "outputs": [
    {
     "data": {
      "text/plain": [
       "[32.9, 35.9, 38.9, 41.9, 44.9]"
      ]
     },
     "execution_count": 540,
     "metadata": {},
     "output_type": "execute_result"
    }
   ],
   "source": [
    "upper_class_limit=[]\n",
    "start=lower_class_intervals[0]-0.1\n",
    "\n",
    "for i in lower_class_intervals:\n",
    "    upper=i+class_interval\n",
    "    upper_class_limit.append(upper)\n",
    "\n",
    "upper_class_limits=[i-0.1 for i in upper_class_limit]\n",
    "upper_class_limits"
   ]
  },
  {
   "cell_type": "markdown",
   "metadata": {
    "id": "UqHp88UzSsaC"
   },
   "source": [
    "### Storing the data in a Pandas DataFrame"
   ]
  },
  {
   "cell_type": "code",
   "execution_count": null,
   "metadata": {
    "id": "c6RuYsKWSsaC",
    "outputId": "e022f5d5-a762-4151-c1e9-24cc026742ce"
   },
   "outputs": [
    {
     "data": {
      "text/html": [
       "<div>\n",
       "<style scoped>\n",
       "    .dataframe tbody tr th:only-of-type {\n",
       "        vertical-align: middle;\n",
       "    }\n",
       "\n",
       "    .dataframe tbody tr th {\n",
       "        vertical-align: top;\n",
       "    }\n",
       "\n",
       "    .dataframe thead th {\n",
       "        text-align: right;\n",
       "    }\n",
       "</style>\n",
       "<table border=\"1\" class=\"dataframe\">\n",
       "  <thead>\n",
       "    <tr style=\"text-align: right;\">\n",
       "      <th></th>\n",
       "      <th>Lower</th>\n",
       "      <th>upper</th>\n",
       "    </tr>\n",
       "  </thead>\n",
       "  <tbody>\n",
       "    <tr>\n",
       "      <th>0</th>\n",
       "      <td>30.0</td>\n",
       "      <td>32.9</td>\n",
       "    </tr>\n",
       "    <tr>\n",
       "      <th>1</th>\n",
       "      <td>33.0</td>\n",
       "      <td>35.9</td>\n",
       "    </tr>\n",
       "    <tr>\n",
       "      <th>2</th>\n",
       "      <td>36.0</td>\n",
       "      <td>38.9</td>\n",
       "    </tr>\n",
       "    <tr>\n",
       "      <th>3</th>\n",
       "      <td>39.0</td>\n",
       "      <td>41.9</td>\n",
       "    </tr>\n",
       "    <tr>\n",
       "      <th>4</th>\n",
       "      <td>42.0</td>\n",
       "      <td>44.9</td>\n",
       "    </tr>\n",
       "  </tbody>\n",
       "</table>\n",
       "</div>"
      ],
      "text/plain": [
       "   Lower  upper\n",
       "0   30.0   32.9\n",
       "1   33.0   35.9\n",
       "2   36.0   38.9\n",
       "3   39.0   41.9\n",
       "4   42.0   44.9"
      ]
     },
     "execution_count": 541,
     "metadata": {},
     "output_type": "execute_result"
    }
   ],
   "source": [
    "df=pd.DataFrame({\n",
    "    'Lower': lower_class_intervals,\n",
    "    'upper':upper_class_limits\n",
    "})\n",
    "df"
   ]
  },
  {
   "cell_type": "markdown",
   "metadata": {
    "id": "WJs_kCDlSsaD"
   },
   "source": [
    "### 5. Finding Frequency of Each Class"
   ]
  },
  {
   "cell_type": "code",
   "execution_count": null,
   "metadata": {
    "id": "0zOaUU34SsaD"
   },
   "outputs": [],
   "source": [
    "df['frequency']=0\n",
    "for i in range(len(df)):\n",
    "    df['frequency'][i]=len([x for x in list if df['Lower'][i]<=x<=df['upper'][i]])"
   ]
  },
  {
   "cell_type": "markdown",
   "metadata": {
    "id": "umPdJESJSsaD"
   },
   "source": [
    "### 6. Calculating Class Boundary"
   ]
  },
  {
   "cell_type": "code",
   "execution_count": null,
   "metadata": {
    "id": "uOnuAZQGSsaD"
   },
   "outputs": [],
   "source": [
    "df['lower_class_boundary']=df['Lower']-0.05\n",
    "df['upper_class_boundary']=df['upper']+0.05"
   ]
  },
  {
   "cell_type": "markdown",
   "metadata": {
    "id": "aHm5St9YSsaD"
   },
   "source": [
    "### 7. Calculating Class Mark"
   ]
  },
  {
   "cell_type": "code",
   "execution_count": null,
   "metadata": {
    "id": "JoAO0EqDSsaD",
    "outputId": "c2ca2959-6d09-45c2-eef7-52faebb46419"
   },
   "outputs": [
    {
     "data": {
      "text/html": [
       "<div>\n",
       "<style scoped>\n",
       "    .dataframe tbody tr th:only-of-type {\n",
       "        vertical-align: middle;\n",
       "    }\n",
       "\n",
       "    .dataframe tbody tr th {\n",
       "        vertical-align: top;\n",
       "    }\n",
       "\n",
       "    .dataframe thead th {\n",
       "        text-align: right;\n",
       "    }\n",
       "</style>\n",
       "<table border=\"1\" class=\"dataframe\">\n",
       "  <thead>\n",
       "    <tr style=\"text-align: right;\">\n",
       "      <th></th>\n",
       "      <th>Lower</th>\n",
       "      <th>upper</th>\n",
       "      <th>frequency</th>\n",
       "      <th>lower_class_boundary</th>\n",
       "      <th>upper_class_boundary</th>\n",
       "      <th>Class_mark</th>\n",
       "    </tr>\n",
       "  </thead>\n",
       "  <tbody>\n",
       "    <tr>\n",
       "      <th>0</th>\n",
       "      <td>30.0</td>\n",
       "      <td>32.9</td>\n",
       "      <td>2</td>\n",
       "      <td>29.95</td>\n",
       "      <td>32.95</td>\n",
       "      <td>31.45</td>\n",
       "    </tr>\n",
       "    <tr>\n",
       "      <th>1</th>\n",
       "      <td>33.0</td>\n",
       "      <td>35.9</td>\n",
       "      <td>4</td>\n",
       "      <td>32.95</td>\n",
       "      <td>35.95</td>\n",
       "      <td>34.45</td>\n",
       "    </tr>\n",
       "    <tr>\n",
       "      <th>2</th>\n",
       "      <td>36.0</td>\n",
       "      <td>38.9</td>\n",
       "      <td>14</td>\n",
       "      <td>35.95</td>\n",
       "      <td>38.95</td>\n",
       "      <td>37.45</td>\n",
       "    </tr>\n",
       "    <tr>\n",
       "      <th>3</th>\n",
       "      <td>39.0</td>\n",
       "      <td>41.9</td>\n",
       "      <td>8</td>\n",
       "      <td>38.95</td>\n",
       "      <td>41.95</td>\n",
       "      <td>40.45</td>\n",
       "    </tr>\n",
       "    <tr>\n",
       "      <th>4</th>\n",
       "      <td>42.0</td>\n",
       "      <td>44.9</td>\n",
       "      <td>2</td>\n",
       "      <td>41.95</td>\n",
       "      <td>44.95</td>\n",
       "      <td>43.45</td>\n",
       "    </tr>\n",
       "  </tbody>\n",
       "</table>\n",
       "</div>"
      ],
      "text/plain": [
       "   Lower  upper  frequency  lower_class_boundary  upper_class_boundary  \\\n",
       "0   30.0   32.9          2                 29.95                 32.95   \n",
       "1   33.0   35.9          4                 32.95                 35.95   \n",
       "2   36.0   38.9         14                 35.95                 38.95   \n",
       "3   39.0   41.9          8                 38.95                 41.95   \n",
       "4   42.0   44.9          2                 41.95                 44.95   \n",
       "\n",
       "   Class_mark  \n",
       "0       31.45  \n",
       "1       34.45  \n",
       "2       37.45  \n",
       "3       40.45  \n",
       "4       43.45  "
      ]
     },
     "execution_count": 544,
     "metadata": {},
     "output_type": "execute_result"
    }
   ],
   "source": [
    "df['Class_mark']=(df['upper']+df['Lower'])/2\n",
    "df"
   ]
  },
  {
   "cell_type": "markdown",
   "metadata": {
    "id": "x-bxPMMUSsaD"
   },
   "source": [
    "# **2. Graphical Representation of Data**\n",
    "## **Grouped Data**"
   ]
  },
  {
   "cell_type": "markdown",
   "metadata": {
    "id": "g_79gxxDSsaD"
   },
   "source": [
    "### **Histogram**\n",
    "Histogram is the most common graphical presentation of\n",
    "a frequency distribution for numerical data.\n",
    "It uses a series of adjacent bars in which the width of\n",
    "each bar represents the class width and the heights\n",
    "represent the frequency or relative frequency of the class"
   ]
  },
  {
   "cell_type": "code",
   "execution_count": null,
   "metadata": {
    "id": "pRSLwViFSsaE",
    "outputId": "457f03b9-8e74-4b54-8722-55d0f3bf5df9"
   },
   "outputs": [
    {
     "name": "stderr",
     "output_type": "stream",
     "text": [
      "C:\\Users\\awans\\AppData\\Local\\Temp\\ipykernel_13528\\1239812076.py:1: FutureWarning: \n",
      "\n",
      "Passing `palette` without assigning `hue` is deprecated and will be removed in v0.14.0. Assign the `x` variable to `hue` and set `legend=False` for the same effect.\n",
      "\n",
      "  ax = sns.barplot(x='Class_mark', y='frequency', data=df, palette='ocean')\n"
     ]
    },
    {
     "data": {
      "text/plain": [
       "Text(0, 0.5, 'Frequency')"
      ]
     },
     "execution_count": 571,
     "metadata": {},
     "output_type": "execute_result"
    },
    {
     "data": {
      "image/png": "[encoded data removed]",
      "text/plain": [
       "<Figure size 640x480 with 1 Axes>"
      ]
     },
     "metadata": {},
     "output_type": "display_data"
    }
   ],
   "source": [
    "ax = sns.barplot(x='Class_mark', y='frequency', data=df, palette='ocean')\n",
    "\n",
    "\n",
    "for container in ax.containers:\n",
    "    ax.bar_label(container)\n",
    "\n",
    "plt.title('Histogram of Frequency Distribution')\n",
    "plt.xlabel('Class Mark')\n",
    "plt.ylabel('Frequency')"
   ]
  },
  {
   "cell_type": "markdown",
   "metadata": {
    "id": "jPhQ-fW5SsaE"
   },
   "source": [
    "### **Frequency Polygon**"
   ]
  },
  {
   "cell_type": "markdown",
   "metadata": {
    "id": "WdDRJ6H-SsaE"
   },
   "source": [
    "It is a graph that consists of line segments connecting the\n",
    "intersection of the class marks and the frequencies of a\n",
    "continuous frequency distribution\n",
    "\n",
    " It can also be constructed from histogram by joining the mid-\n",
    "points of each bar"
   ]
  },
  {
   "cell_type": "code",
   "execution_count": null,
   "metadata": {
    "id": "-MtHqCXaSsaE",
    "outputId": "d8e34dbe-c0ac-4495-fb41-c6b850a884bf"
   },
   "outputs": [
    {
     "data": {
      "image/png": "[encoded data removed]",
      "text/plain": [
       "<Figure size 640x480 with 1 Axes>"
      ]
     },
     "metadata": {},
     "output_type": "display_data"
    }
   ],
   "source": [
    "ax =sns.lineplot(x='Class_mark',y='frequency',data=df,marker='o',color='g')\n",
    "\n",
    "\n",
    "for container in ax.containers:\n",
    "    ax.bar_label(container)\n",
    "plt.title('Frequency Polygon of Frequency Distribution')\n",
    "plt.xlabel('Class Mark')\n",
    "plt.ylabel('Frequency')\n",
    "plt.show()"
   ]
  },
  {
   "cell_type": "markdown",
   "metadata": {
    "id": "oT7WX9eUSsaF"
   },
   "source": [
    "### **Cumulative Frequency Distributions (OGIVE)**"
   ]
  },
  {
   "cell_type": "code",
   "execution_count": null,
   "metadata": {
    "id": "BrSXDB77SsaF",
    "outputId": "05c1b131-2486-46a5-fc1f-e8c22b6ea0bb"
   },
   "outputs": [
    {
     "data": {
      "text/html": [
       "<div>\n",
       "<style scoped>\n",
       "    .dataframe tbody tr th:only-of-type {\n",
       "        vertical-align: middle;\n",
       "    }\n",
       "\n",
       "    .dataframe tbody tr th {\n",
       "        vertical-align: top;\n",
       "    }\n",
       "\n",
       "    .dataframe thead th {\n",
       "        text-align: right;\n",
       "    }\n",
       "</style>\n",
       "<table border=\"1\" class=\"dataframe\">\n",
       "  <thead>\n",
       "    <tr style=\"text-align: right;\">\n",
       "      <th></th>\n",
       "      <th>Lower</th>\n",
       "      <th>upper</th>\n",
       "      <th>frequency</th>\n",
       "      <th>lower_class_boundary</th>\n",
       "      <th>upper_class_boundary</th>\n",
       "      <th>Class_mark</th>\n",
       "    </tr>\n",
       "  </thead>\n",
       "  <tbody>\n",
       "    <tr>\n",
       "      <th>0</th>\n",
       "      <td>30.0</td>\n",
       "      <td>32.9</td>\n",
       "      <td>2</td>\n",
       "      <td>29.95</td>\n",
       "      <td>32.95</td>\n",
       "      <td>31.45</td>\n",
       "    </tr>\n",
       "    <tr>\n",
       "      <th>1</th>\n",
       "      <td>33.0</td>\n",
       "      <td>35.9</td>\n",
       "      <td>4</td>\n",
       "      <td>32.95</td>\n",
       "      <td>35.95</td>\n",
       "      <td>34.45</td>\n",
       "    </tr>\n",
       "    <tr>\n",
       "      <th>2</th>\n",
       "      <td>36.0</td>\n",
       "      <td>38.9</td>\n",
       "      <td>14</td>\n",
       "      <td>35.95</td>\n",
       "      <td>38.95</td>\n",
       "      <td>37.45</td>\n",
       "    </tr>\n",
       "    <tr>\n",
       "      <th>3</th>\n",
       "      <td>39.0</td>\n",
       "      <td>41.9</td>\n",
       "      <td>8</td>\n",
       "      <td>38.95</td>\n",
       "      <td>41.95</td>\n",
       "      <td>40.45</td>\n",
       "    </tr>\n",
       "    <tr>\n",
       "      <th>4</th>\n",
       "      <td>42.0</td>\n",
       "      <td>44.9</td>\n",
       "      <td>2</td>\n",
       "      <td>41.95</td>\n",
       "      <td>44.95</td>\n",
       "      <td>43.45</td>\n",
       "    </tr>\n",
       "  </tbody>\n",
       "</table>\n",
       "</div>"
      ],
      "text/plain": [
       "   Lower  upper  frequency  lower_class_boundary  upper_class_boundary  \\\n",
       "0   30.0   32.9          2                 29.95                 32.95   \n",
       "1   33.0   35.9          4                 32.95                 35.95   \n",
       "2   36.0   38.9         14                 35.95                 38.95   \n",
       "3   39.0   41.9          8                 38.95                 41.95   \n",
       "4   42.0   44.9          2                 41.95                 44.95   \n",
       "\n",
       "   Class_mark  \n",
       "0       31.45  \n",
       "1       34.45  \n",
       "2       37.45  \n",
       "3       40.45  \n",
       "4       43.45  "
      ]
     },
     "execution_count": 560,
     "metadata": {},
     "output_type": "execute_result"
    }
   ],
   "source": [
    "df"
   ]
  },
  {
   "cell_type": "code",
   "execution_count": null,
   "metadata": {
    "id": "tOYV6Sg2SsaF",
    "outputId": "c0263952-af39-45b6-e77b-7ac5f3f3d50d"
   },
   "outputs": [
    {
     "data": {
      "text/html": [
       "<div>\n",
       "<style scoped>\n",
       "    .dataframe tbody tr th:only-of-type {\n",
       "        vertical-align: middle;\n",
       "    }\n",
       "\n",
       "    .dataframe tbody tr th {\n",
       "        vertical-align: top;\n",
       "    }\n",
       "\n",
       "    .dataframe thead th {\n",
       "        text-align: right;\n",
       "    }\n",
       "</style>\n",
       "<table border=\"1\" class=\"dataframe\">\n",
       "  <thead>\n",
       "    <tr style=\"text-align: right;\">\n",
       "      <th></th>\n",
       "      <th>Lower</th>\n",
       "      <th>upper</th>\n",
       "      <th>frequency</th>\n",
       "      <th>lower_class_boundary</th>\n",
       "      <th>upper_class_boundary</th>\n",
       "      <th>Class_mark</th>\n",
       "      <th>Commulative &lt;</th>\n",
       "      <th>Commulative &gt;</th>\n",
       "    </tr>\n",
       "  </thead>\n",
       "  <tbody>\n",
       "    <tr>\n",
       "      <th>0</th>\n",
       "      <td>30.0</td>\n",
       "      <td>32.9</td>\n",
       "      <td>2</td>\n",
       "      <td>29.95</td>\n",
       "      <td>32.95</td>\n",
       "      <td>31.45</td>\n",
       "      <td>0</td>\n",
       "      <td>28</td>\n",
       "    </tr>\n",
       "    <tr>\n",
       "      <th>1</th>\n",
       "      <td>33.0</td>\n",
       "      <td>35.9</td>\n",
       "      <td>4</td>\n",
       "      <td>32.95</td>\n",
       "      <td>35.95</td>\n",
       "      <td>34.45</td>\n",
       "      <td>4</td>\n",
       "      <td>24</td>\n",
       "    </tr>\n",
       "    <tr>\n",
       "      <th>2</th>\n",
       "      <td>36.0</td>\n",
       "      <td>38.9</td>\n",
       "      <td>14</td>\n",
       "      <td>35.95</td>\n",
       "      <td>38.95</td>\n",
       "      <td>37.45</td>\n",
       "      <td>18</td>\n",
       "      <td>10</td>\n",
       "    </tr>\n",
       "    <tr>\n",
       "      <th>3</th>\n",
       "      <td>39.0</td>\n",
       "      <td>41.9</td>\n",
       "      <td>8</td>\n",
       "      <td>38.95</td>\n",
       "      <td>41.95</td>\n",
       "      <td>40.45</td>\n",
       "      <td>26</td>\n",
       "      <td>2</td>\n",
       "    </tr>\n",
       "    <tr>\n",
       "      <th>4</th>\n",
       "      <td>42.0</td>\n",
       "      <td>44.9</td>\n",
       "      <td>2</td>\n",
       "      <td>41.95</td>\n",
       "      <td>44.95</td>\n",
       "      <td>43.45</td>\n",
       "      <td>28</td>\n",
       "      <td>0</td>\n",
       "    </tr>\n",
       "  </tbody>\n",
       "</table>\n",
       "</div>"
      ],
      "text/plain": [
       "   Lower  upper  frequency  lower_class_boundary  upper_class_boundary  \\\n",
       "0   30.0   32.9          2                 29.95                 32.95   \n",
       "1   33.0   35.9          4                 32.95                 35.95   \n",
       "2   36.0   38.9         14                 35.95                 38.95   \n",
       "3   39.0   41.9          8                 38.95                 41.95   \n",
       "4   42.0   44.9          2                 41.95                 44.95   \n",
       "\n",
       "   Class_mark  Commulative <  Commulative >  \n",
       "0       31.45              0             28  \n",
       "1       34.45              4             24  \n",
       "2       37.45             18             10  \n",
       "3       40.45             26              2  \n",
       "4       43.45             28              0  "
      ]
     },
     "execution_count": 581,
     "metadata": {},
     "output_type": "execute_result"
    }
   ],
   "source": [
    "df['Commulative <']=0\n",
    "for i in range(len(df)):\n",
    "    if i==1:\n",
    "        df.loc[i,'Commulative <']=df.loc[1,'frequency']\n",
    "    elif i>1 and i<5:\n",
    "        df.loc[i,'Commulative <']=df.loc[i,'frequency']+df.loc[i-1,'Commulative <']\n",
    "\n",
    "df['Commulative >']=0\n",
    "\n",
    "df.loc[0,'Commulative >']=df.loc[len(df)-1,'Commulative <']\n",
    "\n",
    "\n",
    "for i in range(1,len(df)):\n",
    "\n",
    "    df.loc[i,'Commulative >']=df.loc[i-1,'Commulative >']-df.loc[i,'frequency']\n",
    "\n",
    "\n",
    "df"
   ]
  },
  {
   "cell_type": "code",
   "execution_count": null,
   "metadata": {
    "id": "fHdgjU6CSsaF",
    "outputId": "71d2a8c4-3117-48c5-f3aa-23f01494b3c7"
   },
   "outputs": [
    {
     "data": {
      "image/png": "[encoded data removed]",
      "text/plain": [
       "<Figure size 640x480 with 1 Axes>"
      ]
     },
     "metadata": {},
     "output_type": "display_data"
    }
   ],
   "source": [
    "ax = sns.lineplot(x='Class_mark',y='Commulative <',data=df,marker='o',color='g')\n",
    "ds= sns.lineplot(x='Class_mark',y='Commulative >',data=df,marker='o',color='r')\n",
    "\n",
    "\n",
    "plt.title('Commulative Frequency Polygon of Frequency Distribution')\n",
    "plt.xlabel('Class Mark')\n",
    "plt.ylabel('Frequency')\n",
    "plt.show()"
   ]
  },
  {
   "cell_type": "markdown",
   "metadata": {
    "id": "OuFIwVnPSsaF"
   },
   "source": [
    "## **Ungrouped Data**"
   ]
  },
  {
   "cell_type": "markdown",
   "metadata": {
    "id": "wmQkgKfiSsaF"
   },
   "source": [
    "### **Simple Bar Diagram**"
   ]
  },
  {
   "cell_type": "code",
   "execution_count": null,
   "metadata": {
    "id": "gDUyKaHFSsaG"
   },
   "outputs": [],
   "source": [
    "df=pd.DataFrame({\n",
    "    'Years':[1965,1966,1967,1968,1969],\n",
    "    'Turnover':[35000,42000,43500,48000,48500]\n",
    "})"
   ]
  },
  {
   "cell_type": "code",
   "execution_count": null,
   "metadata": {
    "id": "7uacn8jaSsaG",
    "outputId": "cc8c2b45-daea-42db-a04e-7ee22e0bd5fe"
   },
   "outputs": [
    {
     "name": "stderr",
     "output_type": "stream",
     "text": [
      "C:\\Users\\awans\\AppData\\Local\\Temp\\ipykernel_13528\\2777768333.py:1: FutureWarning: \n",
      "\n",
      "Passing `palette` without assigning `hue` is deprecated and will be removed in v0.14.0. Assign the `x` variable to `hue` and set `legend=False` for the same effect.\n",
      "\n",
      "  ax=sns.barplot(x='Years',y='Turnover',data=df,width=0.3,palette='plasma')\n"
     ]
    },
    {
     "data": {
      "image/png": "[encoded data removed]",
      "text/plain": [
       "<Figure size 640x480 with 1 Axes>"
      ]
     },
     "metadata": {},
     "output_type": "display_data"
    }
   ],
   "source": [
    "ax=sns.barplot(x='Years',y='Turnover',data=df,width=0.3,palette='plasma')\n",
    "for i in ax.containers:\n",
    "    ax.bar_label(i,)\n",
    "\n",
    "plt.title('Turnover of a Company over 5 Years')\n",
    "plt.show()"
   ]
  },
  {
   "cell_type": "markdown",
   "metadata": {
    "id": "OOhEk_8kSsaK"
   },
   "source": [
    "## **Multiple Bar Plot**"
   ]
  },
  {
   "cell_type": "code",
   "execution_count": null,
   "metadata": {
    "id": "I1hZpbXqSsaK"
   },
   "outputs": [],
   "source": [
    "df=pd.DataFrame({\n",
    "    'Year':['1965-66','1970-71','1975-76'],\n",
    "    'Area':[2866,3233,3420],\n",
    "    'Production':    [1588,2229,1937]\n",
    "})"
   ]
  },
  {
   "cell_type": "code",
   "execution_count": null,
   "metadata": {
    "id": "RpIUoE_3SsaK",
    "outputId": "071a1d01-4a3c-4987-8f16-2b3d0c67e3b1"
   },
   "outputs": [
    {
     "name": "stdout",
     "output_type": "stream",
     "text": [
      "['Solarize_Light2', '_classic_test_patch', '_mpl-gallery', '_mpl-gallery-nogrid', 'bmh', 'classic', 'dark_background', 'fast', 'fivethirtyeight', 'ggplot', 'grayscale', 'seaborn-v0_8', 'seaborn-v0_8-bright', 'seaborn-v0_8-colorblind', 'seaborn-v0_8-dark', 'seaborn-v0_8-dark-palette', 'seaborn-v0_8-darkgrid', 'seaborn-v0_8-deep', 'seaborn-v0_8-muted', 'seaborn-v0_8-notebook', 'seaborn-v0_8-paper', 'seaborn-v0_8-pastel', 'seaborn-v0_8-poster', 'seaborn-v0_8-talk', 'seaborn-v0_8-ticks', 'seaborn-v0_8-white', 'seaborn-v0_8-whitegrid', 'tableau-colorblind10']\n"
     ]
    }
   ],
   "source": [
    "print(plt.style.available)"
   ]
  },
  {
   "cell_type": "code",
   "execution_count": null,
   "metadata": {
    "id": "Tr7wBKSaSsaK",
    "outputId": "861afcc8-faf1-4b87-de00-328f54436838"
   },
   "outputs": [
    {
     "data": {
      "image/png": "[encoded data removed]",
      "text/plain": [
       "<Figure size 640x480 with 1 Axes>"
      ]
     },
     "metadata": {},
     "output_type": "display_data"
    }
   ],
   "source": [
    "N = len(df)\n",
    "ind = np.arange(N)\n",
    "width = 0.25\n",
    "plt.style.use('dark_background')\n",
    "fig, ax = plt.subplots(layout='constrained')\n",
    "\n",
    "\n",
    "re1=ax.bar(ind-width/2  ,df['Area'],width,label='Area',color='blue')\n",
    "re2=ax.bar(ind+width/2  ,df['Production'],width,label='Production',color='green')\n",
    "ax.set_xticks(ind)\n",
    "ax.set_xticklabels(df['Year'])\n",
    "plt.title('Production and Areas of Cotton Growth in Punjab from 1965-76')\n",
    "plt.xlabel('Years')\n",
    "\n",
    "plt.ylabel('Production and Area')\n",
    "ax.legend()\n",
    "plt.grid(visible=True,which='major',axis='both',linestyle='--',linewidth=0.6)\n",
    "plt.show()\n"
   ]
  },
  {
   "cell_type": "markdown",
   "metadata": {
    "id": "odUAJcY5SsaK"
   },
   "source": [
    "## **Component Bar Graph**"
   ]
  },
  {
   "cell_type": "code",
   "execution_count": null,
   "metadata": {
    "id": "H-ArSpReSsaK",
    "outputId": "84919d7f-e5a7-4f31-dd47-50138d271cd4"
   },
   "outputs": [
    {
     "data": {
      "image/png": "[encoded data removed]",
      "text/plain": [
       "<Figure size 640x480 with 1 Axes>"
      ]
     },
     "metadata": {},
     "output_type": "display_data"
    }
   ],
   "source": [
    "df=pd.DataFrame({\n",
    "\"Divisions\" :['Peshawar' ,'Rawalpindi' ,'Sargodha' ,'Lahore'],\n",
    "'Males': [33, 21, 32, 35],\n",
    "'Females': [31, 19, 28, 30]\n",
    "})\n",
    "\n",
    "\n",
    "width=0.6\n",
    "fig,ax=plt.subplots()\n",
    "color={'Males':'blue','Females':'green'}\n",
    "bottom=np.zeros(len(df))\n",
    "for sex in ['Males','Females']:\n",
    "    p=ax.bar(df['Divisions'],df[sex],width,label=sex,bottom=bottom,color=color[sex])\n",
    "    bottom+=df[sex]\n",
    "    ax.bar_label(p,label_type='center',color='black')\n",
    "\n",
    "plt.show()\n",
    "\n"
   ]
  },
  {
   "cell_type": "markdown",
   "metadata": {
    "id": "Dm6ejwScSsaL"
   },
   "source": [
    "## **Pie Charts**"
   ]
  },
  {
   "cell_type": "code",
   "execution_count": null,
   "metadata": {
    "id": "uYP-5MIXSsaL",
    "outputId": "7f827db4-f195-4977-d161-41bcab6a0dd4"
   },
   "outputs": [
    {
     "data": {
      "text/plain": [
       "<matplotlib.legend.Legend at 0x17741a7ac00>"
      ]
     },
     "execution_count": 297,
     "metadata": {},
     "output_type": "execute_result"
    },
    {
     "data": {
      "image/png": "[encoded data removed]",
      "text/plain": [
       "<Figure size 640x480 with 1 Axes>"
      ]
     },
     "metadata": {},
     "output_type": "display_data"
    }
   ],
   "source": [
    "df=pd.DataFrame(\n",
    "    {\n",
    "        'Subject':['Urdu','English'],\n",
    "        'No of Students':[719,481]\n",
    "    }\n",
    ")\n",
    "plt.style.use('dark_background')\n",
    "fig,ax=plt.subplots()\n",
    "p=ax.pie(df['No of Students'],labels=df['Subject'],  autopct='%1.1f%%', startangle=90, colors=['blue', 'green'])\n",
    "ax.legend()"
   ]
  },
  {
   "cell_type": "markdown",
   "metadata": {
    "id": "J2GHg5YeSsaL"
   },
   "source": [
    "# **3. Mathematical Measures of Central Tendancy**\n",
    "## **Arithematic Mean**\n",
    "### **Ungrouped Data**"
   ]
  },
  {
   "cell_type": "code",
   "execution_count": null,
   "metadata": {
    "id": "9CvEx9y5SsaL",
    "outputId": "29690a44-939a-4d7f-99d5-ebcaea758d5b"
   },
   "outputs": [
    {
     "name": "stdout",
     "output_type": "stream",
     "text": [
      "Arithematic mean is 52.33\n"
     ]
    }
   ],
   "source": [
    "list=[45,64,53,55,64,33]\n",
    "Arithematic_mean=np.sum(list)/len(list)\n",
    "print(\"Arithematic mean is\",round(Arithematic_mean,2))"
   ]
  },
  {
   "cell_type": "markdown",
   "metadata": {
    "id": "8vUQNugfSsaL"
   },
   "source": [
    "### **Grouped Data**"
   ]
  },
  {
   "cell_type": "markdown",
   "metadata": {
    "id": "8fnqm9YsSsaL"
   },
   "source": [
    "The formula for calulating Arithematic Mean of grouped data is\n",
    "\n",
    "### <center><b> A.M = Sum of product of Frequencies and Class Mark / Sum of Frequencies</b></center>"
   ]
  },
  {
   "cell_type": "code",
   "execution_count": null,
   "metadata": {
    "id": "yDVnlje-SsaL",
    "outputId": "434280b7-0b89-4c29-a6ef-99a42527333b"
   },
   "outputs": [
    {
     "data": {
      "text/plain": [
       "122.5"
      ]
     },
     "execution_count": 492,
     "metadata": {},
     "output_type": "execute_result"
    }
   ],
   "source": [
    "df=pd.DataFrame(\n",
    "    {\n",
    "     'lower_class': [65,85,105,125,145,165,185],\n",
    "        'upper_class':[84,104,124,144,164,184,204],\n",
    "            'Frequency':[9,10,17,10,5,4,5]\n",
    "    }\n",
    ")\n",
    "\n",
    "df['Class_mark']=(df['upper_class']+df['lower_class'])/2\n",
    "df['Fx']=df['Frequency']*df['Class_mark']\n",
    "\n",
    "A_M_Grouped=np.sum(df['Fx'])/np.sum(df['Frequency'])\n",
    "A_M_Grouped"
   ]
  },
  {
   "cell_type": "markdown",
   "metadata": {
    "id": "WC_fo6AcSsaM"
   },
   "source": [
    "## **Geometric Mean**\n",
    "### **Ungrouped Data**"
   ]
  },
  {
   "cell_type": "markdown",
   "metadata": {
    "id": "WOW7Lv1LSsaM"
   },
   "source": [
    "The formula for geometric mean of ungrouped data is <br>\n",
    "### **<center>G.M = antilog(sum of log of each value/total number of values)</center>**"
   ]
  },
  {
   "cell_type": "code",
   "execution_count": null,
   "metadata": {
    "id": "tY9WP7nXSsaM",
    "outputId": "3caa7787-db8a-44ba-e6a3-a38f50d01686"
   },
   "outputs": [
    {
     "data": {
      "text/plain": [
       "39.68"
      ]
     },
     "execution_count": 376,
     "metadata": {},
     "output_type": "execute_result"
    }
   ],
   "source": [
    "list=[45,32,37,46,39,36,41,48,36]\n",
    "G_M=np.exp(np.mean(np.log(list)))\n",
    "G_M=round(G_M,2)\n",
    "G_M\n"
   ]
  },
  {
   "cell_type": "markdown",
   "metadata": {
    "id": "dq8bBRtISsaM"
   },
   "source": [
    "### **Grouped Data**"
   ]
  },
  {
   "cell_type": "markdown",
   "metadata": {
    "id": "4N38hlVISsaM"
   },
   "source": [
    "The formula for Geometric Mean of Grouped Data is <br>\n",
    "### **<center> G.M = Antilog(Sum of product of frquencies and Class Mark/ Sum of frequencies)</center>**"
   ]
  },
  {
   "cell_type": "code",
   "execution_count": null,
   "metadata": {
    "id": "vF6Rza50SsaN",
    "outputId": "0d6a2b37-d4c5-4854-aebc-c79339116f2d"
   },
   "outputs": [
    {
     "data": {
      "text/html": [
       "<div>\n",
       "<style scoped>\n",
       "    .dataframe tbody tr th:only-of-type {\n",
       "        vertical-align: middle;\n",
       "    }\n",
       "\n",
       "    .dataframe tbody tr th {\n",
       "        vertical-align: top;\n",
       "    }\n",
       "\n",
       "    .dataframe thead th {\n",
       "        text-align: right;\n",
       "    }\n",
       "</style>\n",
       "<table border=\"1\" class=\"dataframe\">\n",
       "  <thead>\n",
       "    <tr style=\"text-align: right;\">\n",
       "      <th></th>\n",
       "      <th>lower_class</th>\n",
       "      <th>upper_class</th>\n",
       "      <th>Frequency</th>\n",
       "      <th>Class_mark</th>\n",
       "      <th>Fx</th>\n",
       "    </tr>\n",
       "  </thead>\n",
       "  <tbody>\n",
       "    <tr>\n",
       "      <th>0</th>\n",
       "      <td>65</td>\n",
       "      <td>84</td>\n",
       "      <td>9</td>\n",
       "      <td>74.5</td>\n",
       "      <td>670.5</td>\n",
       "    </tr>\n",
       "    <tr>\n",
       "      <th>1</th>\n",
       "      <td>85</td>\n",
       "      <td>104</td>\n",
       "      <td>10</td>\n",
       "      <td>94.5</td>\n",
       "      <td>945.0</td>\n",
       "    </tr>\n",
       "    <tr>\n",
       "      <th>2</th>\n",
       "      <td>105</td>\n",
       "      <td>124</td>\n",
       "      <td>17</td>\n",
       "      <td>114.5</td>\n",
       "      <td>1946.5</td>\n",
       "    </tr>\n",
       "    <tr>\n",
       "      <th>3</th>\n",
       "      <td>125</td>\n",
       "      <td>144</td>\n",
       "      <td>10</td>\n",
       "      <td>134.5</td>\n",
       "      <td>1345.0</td>\n",
       "    </tr>\n",
       "    <tr>\n",
       "      <th>4</th>\n",
       "      <td>145</td>\n",
       "      <td>164</td>\n",
       "      <td>5</td>\n",
       "      <td>154.5</td>\n",
       "      <td>772.5</td>\n",
       "    </tr>\n",
       "    <tr>\n",
       "      <th>5</th>\n",
       "      <td>165</td>\n",
       "      <td>184</td>\n",
       "      <td>4</td>\n",
       "      <td>174.5</td>\n",
       "      <td>698.0</td>\n",
       "    </tr>\n",
       "    <tr>\n",
       "      <th>6</th>\n",
       "      <td>185</td>\n",
       "      <td>204</td>\n",
       "      <td>5</td>\n",
       "      <td>194.5</td>\n",
       "      <td>972.5</td>\n",
       "    </tr>\n",
       "  </tbody>\n",
       "</table>\n",
       "</div>"
      ],
      "text/plain": [
       "   lower_class  upper_class  Frequency  Class_mark      Fx\n",
       "0           65           84          9        74.5   670.5\n",
       "1           85          104         10        94.5   945.0\n",
       "2          105          124         17       114.5  1946.5\n",
       "3          125          144         10       134.5  1345.0\n",
       "4          145          164          5       154.5   772.5\n",
       "5          165          184          4       174.5   698.0\n",
       "6          185          204          5       194.5   972.5"
      ]
     },
     "execution_count": 452,
     "metadata": {},
     "output_type": "execute_result"
    }
   ],
   "source": [
    "df"
   ]
  },
  {
   "cell_type": "code",
   "execution_count": null,
   "metadata": {
    "id": "o2VkePFCSsaN",
    "outputId": "fcdbdeaa-287f-4176-a9d2-c3c643365deb"
   },
   "outputs": [
    {
     "data": {
      "text/html": [
       "<div>\n",
       "<style scoped>\n",
       "    .dataframe tbody tr th:only-of-type {\n",
       "        vertical-align: middle;\n",
       "    }\n",
       "\n",
       "    .dataframe tbody tr th {\n",
       "        vertical-align: top;\n",
       "    }\n",
       "\n",
       "    .dataframe thead th {\n",
       "        text-align: right;\n",
       "    }\n",
       "</style>\n",
       "<table border=\"1\" class=\"dataframe\">\n",
       "  <thead>\n",
       "    <tr style=\"text-align: right;\">\n",
       "      <th></th>\n",
       "      <th>lower_class</th>\n",
       "      <th>upper_class</th>\n",
       "      <th>Frequency</th>\n",
       "      <th>Class_mark</th>\n",
       "      <th>Fx</th>\n",
       "      <th>Log(Class_Mark)</th>\n",
       "      <th>f(log(Class_mark))</th>\n",
       "    </tr>\n",
       "  </thead>\n",
       "  <tbody>\n",
       "    <tr>\n",
       "      <th>0</th>\n",
       "      <td>65</td>\n",
       "      <td>84</td>\n",
       "      <td>9</td>\n",
       "      <td>74.5</td>\n",
       "      <td>670.5</td>\n",
       "      <td>1.872156</td>\n",
       "      <td>16.849406</td>\n",
       "    </tr>\n",
       "    <tr>\n",
       "      <th>1</th>\n",
       "      <td>85</td>\n",
       "      <td>104</td>\n",
       "      <td>10</td>\n",
       "      <td>94.5</td>\n",
       "      <td>945.0</td>\n",
       "      <td>1.975432</td>\n",
       "      <td>19.754318</td>\n",
       "    </tr>\n",
       "    <tr>\n",
       "      <th>2</th>\n",
       "      <td>105</td>\n",
       "      <td>124</td>\n",
       "      <td>17</td>\n",
       "      <td>114.5</td>\n",
       "      <td>1946.5</td>\n",
       "      <td>2.058805</td>\n",
       "      <td>34.999693</td>\n",
       "    </tr>\n",
       "    <tr>\n",
       "      <th>3</th>\n",
       "      <td>125</td>\n",
       "      <td>144</td>\n",
       "      <td>10</td>\n",
       "      <td>134.5</td>\n",
       "      <td>1345.0</td>\n",
       "      <td>2.128722</td>\n",
       "      <td>21.287223</td>\n",
       "    </tr>\n",
       "    <tr>\n",
       "      <th>4</th>\n",
       "      <td>145</td>\n",
       "      <td>164</td>\n",
       "      <td>5</td>\n",
       "      <td>154.5</td>\n",
       "      <td>772.5</td>\n",
       "      <td>2.188928</td>\n",
       "      <td>10.944642</td>\n",
       "    </tr>\n",
       "    <tr>\n",
       "      <th>5</th>\n",
       "      <td>165</td>\n",
       "      <td>184</td>\n",
       "      <td>4</td>\n",
       "      <td>174.5</td>\n",
       "      <td>698.0</td>\n",
       "      <td>2.241795</td>\n",
       "      <td>8.967182</td>\n",
       "    </tr>\n",
       "    <tr>\n",
       "      <th>6</th>\n",
       "      <td>185</td>\n",
       "      <td>204</td>\n",
       "      <td>5</td>\n",
       "      <td>194.5</td>\n",
       "      <td>972.5</td>\n",
       "      <td>2.288920</td>\n",
       "      <td>11.444598</td>\n",
       "    </tr>\n",
       "  </tbody>\n",
       "</table>\n",
       "</div>"
      ],
      "text/plain": [
       "   lower_class  upper_class  Frequency  Class_mark      Fx  Log(Class_Mark)  \\\n",
       "0           65           84          9        74.5   670.5         1.872156   \n",
       "1           85          104         10        94.5   945.0         1.975432   \n",
       "2          105          124         17       114.5  1946.5         2.058805   \n",
       "3          125          144         10       134.5  1345.0         2.128722   \n",
       "4          145          164          5       154.5   772.5         2.188928   \n",
       "5          165          184          4       174.5   698.0         2.241795   \n",
       "6          185          204          5       194.5   972.5         2.288920   \n",
       "\n",
       "   f(log(Class_mark))  \n",
       "0           16.849406  \n",
       "1           19.754318  \n",
       "2           34.999693  \n",
       "3           21.287223  \n",
       "4           10.944642  \n",
       "5            8.967182  \n",
       "6           11.444598  "
      ]
     },
     "execution_count": 453,
     "metadata": {},
     "output_type": "execute_result"
    }
   ],
   "source": [
    "df['Log(Class_Mark)']=np.log10(df['Class_mark'])\n",
    "df['f(log(Class_mark))']=df['Frequency']*df['Log(Class_Mark)']\n",
    "df"
   ]
  },
  {
   "cell_type": "code",
   "execution_count": null,
   "metadata": {
    "id": "uUANqM8OSsaN",
    "outputId": "d267a97e-81ef-478a-81b6-c1c7d4e5ed3f"
   },
   "outputs": [
    {
     "data": {
      "text/plain": [
       "60"
      ]
     },
     "execution_count": 321,
     "metadata": {},
     "output_type": "execute_result"
    }
   ],
   "source": [
    "np.sum(df['f(log(Class_mark))'])\n",
    "np.sum(df['Frequency'])"
   ]
  },
  {
   "cell_type": "code",
   "execution_count": null,
   "metadata": {
    "id": "rjelwMEgSsaN",
    "outputId": "193f09e3-f1b0-4cc8-884a-9cf3a64fb5cc"
   },
   "outputs": [
    {
     "data": {
      "text/plain": [
       "117.70214581290175"
      ]
     },
     "execution_count": 369,
     "metadata": {},
     "output_type": "execute_result"
    }
   ],
   "source": [
    "GM_Grouped=np.sum(df['f(log(Class_mark))'])/np.sum(df['Frequency'])\n",
    "GM_Grouped=np.power(10,GM_Grouped)\n",
    "GM_Grouped"
   ]
  },
  {
   "cell_type": "markdown",
   "metadata": {
    "id": "qBHA3YRtSsaN"
   },
   "source": [
    "### **Geometric Mean of Growth Rates**"
   ]
  },
  {
   "cell_type": "markdown",
   "metadata": {
    "id": "mvdfnCQqSsaO"
   },
   "source": [
    "Consider a stock that grows by 10% in year one, declines by\n",
    "20% in year two, and then grows by 30% in year three. If the\n",
    "stock is at 100 in the starting. Find the Geometric Mean of the\n",
    "growth rate"
   ]
  },
  {
   "cell_type": "code",
   "execution_count": null,
   "metadata": {
    "id": "2xJn3t6mSsaO",
    "outputId": "c1e1c5d9-b2ce-4a2e-de3e-91a74ead69ce"
   },
   "outputs": [
    {
     "data": {
      "text/plain": [
       "1.0458643063511968"
      ]
     },
     "execution_count": 344,
     "metadata": {},
     "output_type": "execute_result"
    }
   ],
   "source": [
    "start=100\n",
    "s=start\n",
    "percent=[10,-20,30]\n",
    "change_rate=[]\n",
    "change=[]\n",
    "for i in range(3):\n",
    "    ans=start*(percent[i]/100)\n",
    "    start=start+ans\n",
    "    change.append(start)\n",
    "\n",
    "\n",
    "for i in range(3):\n",
    "    if i==0:\n",
    "        ans=change[i]/s\n",
    "        change_rate.append(ans)\n",
    "    else:\n",
    "        ans=change[i]/change[i-1]\n",
    "        change_rate.append(ans)\n",
    "\n",
    "prod=1\n",
    "for i in change_rate:\n",
    "    prod=prod*i\n",
    "\n",
    "GM= prod**(1/3)\n",
    "GM\n"
   ]
  },
  {
   "cell_type": "markdown",
   "metadata": {
    "id": "9n_wHEuWSsaO"
   },
   "source": [
    "Consider a portfolio of stocks that goes up from $100 to $110 in\n",
    "year one, then declines to $80 in year two and goes up to $150 in\n",
    "year three. The return on portfolio is then calculated as"
   ]
  },
  {
   "cell_type": "code",
   "execution_count": null,
   "metadata": {
    "id": "vaIRCx6lSsaO",
    "outputId": "265a0aaa-8fc3-4c0b-9bdd-5dc33d956471"
   },
   "outputs": [
    {
     "name": "stdout",
     "output_type": "stream",
     "text": [
      "Change Rates [1.1, 0.7272727272727273, 1.875]\n",
      "Geometric Mean is  1.1447142425533319\n"
     ]
    }
   ],
   "source": [
    "start=100\n",
    "\n",
    "s=start\n",
    "percent=[110,80,150]\n",
    "\n",
    "change_rate=[]\n",
    "change=[]\n",
    "\n",
    "for count,i in enumerate(percent):\n",
    "    if count==0:\n",
    "        ans=i/s\n",
    "        change_rate.append(ans)\n",
    "        change.append(i)\n",
    "        continue\n",
    "    else:\n",
    "        ans=i/change[count-1]#80/\n",
    "        change_rate.append(ans)\n",
    "        change.append(i)\n",
    "\n",
    "print(\"Change Rates\",change_rate)\n",
    "\n",
    "prod=1\n",
    "for i in change_rate:\n",
    "    prod=prod*i\n",
    "\n",
    "GM= prod**(1/3)\n",
    "print(\"Geometric Mean is \",GM)\n"
   ]
  },
  {
   "cell_type": "markdown",
   "metadata": {
    "id": "rgEcpSPISsaO"
   },
   "source": [
    "## **HARMONIC MEAN**\n",
    "### **Ungrouped Data**\n",
    "The formula for Harmonic Mean for Ungrouped Data is <br>\n",
    "### **<center> H.M = (Number of all values)/ (sum of reciprocal of all values )</center>**\n"
   ]
  },
  {
   "cell_type": "markdown",
   "metadata": {
    "id": "zwkz3d1jSsaO"
   },
   "source": [
    "The marks obtained by 9 students are 45,32,37,46,39,36,41,48,36. Calculate Harmonic Mean"
   ]
  },
  {
   "cell_type": "code",
   "execution_count": null,
   "metadata": {
    "id": "hf286LM6SsaO",
    "outputId": "f2a7fcae-3f17-4e20-8123-d08c2d5d6c80"
   },
   "outputs": [
    {
     "name": "stdout",
     "output_type": "stream",
     "text": [
      "Harmonic Mean is 39.36\n"
     ]
    }
   ],
   "source": [
    "list=[45,32,37,46,39,36,41,48,36]\n",
    "reciprocal=[1/i for i in list]\n",
    "HM_Ungrouped=len(list)/np.sum(reciprocal)\n",
    "HM_Ungrouped=round(HM_Ungrouped,2)\n",
    "print(\"Harmonic Mean is\",HM_Ungrouped)"
   ]
  },
  {
   "cell_type": "markdown",
   "metadata": {
    "id": "GDhixl5NSsaP"
   },
   "source": [
    "### **Grouped Data**\n",
    "The formula for Harmonic mean of Grouped data is <br>\n",
    "### **<CENTER> H.M = sum of frequencies / sum of ratio of freqencies to class mark </Center>**"
   ]
  },
  {
   "cell_type": "code",
   "execution_count": null,
   "metadata": {
    "id": "-HvPB7qZSsaP",
    "outputId": "532db4e1-8820-4886-d5f6-2ea0940f6cb2"
   },
   "outputs": [
    {
     "data": {
      "text/html": [
       "<div>\n",
       "<style scoped>\n",
       "    .dataframe tbody tr th:only-of-type {\n",
       "        vertical-align: middle;\n",
       "    }\n",
       "\n",
       "    .dataframe tbody tr th {\n",
       "        vertical-align: top;\n",
       "    }\n",
       "\n",
       "    .dataframe thead th {\n",
       "        text-align: right;\n",
       "    }\n",
       "</style>\n",
       "<table border=\"1\" class=\"dataframe\">\n",
       "  <thead>\n",
       "    <tr style=\"text-align: right;\">\n",
       "      <th></th>\n",
       "      <th>lower_class</th>\n",
       "      <th>upper_class</th>\n",
       "      <th>Frequency</th>\n",
       "      <th>Class_mark</th>\n",
       "      <th>Fx</th>\n",
       "      <th>Log(Class_Mark)</th>\n",
       "      <th>f(log(Class_mark))</th>\n",
       "    </tr>\n",
       "  </thead>\n",
       "  <tbody>\n",
       "    <tr>\n",
       "      <th>0</th>\n",
       "      <td>65</td>\n",
       "      <td>84</td>\n",
       "      <td>9</td>\n",
       "      <td>74.5</td>\n",
       "      <td>670.5</td>\n",
       "      <td>1.872156</td>\n",
       "      <td>16.849406</td>\n",
       "    </tr>\n",
       "    <tr>\n",
       "      <th>1</th>\n",
       "      <td>85</td>\n",
       "      <td>104</td>\n",
       "      <td>10</td>\n",
       "      <td>94.5</td>\n",
       "      <td>945.0</td>\n",
       "      <td>1.975432</td>\n",
       "      <td>19.754318</td>\n",
       "    </tr>\n",
       "    <tr>\n",
       "      <th>2</th>\n",
       "      <td>105</td>\n",
       "      <td>124</td>\n",
       "      <td>17</td>\n",
       "      <td>114.5</td>\n",
       "      <td>1946.5</td>\n",
       "      <td>2.058805</td>\n",
       "      <td>34.999693</td>\n",
       "    </tr>\n",
       "    <tr>\n",
       "      <th>3</th>\n",
       "      <td>125</td>\n",
       "      <td>144</td>\n",
       "      <td>10</td>\n",
       "      <td>134.5</td>\n",
       "      <td>1345.0</td>\n",
       "      <td>2.128722</td>\n",
       "      <td>21.287223</td>\n",
       "    </tr>\n",
       "    <tr>\n",
       "      <th>4</th>\n",
       "      <td>145</td>\n",
       "      <td>164</td>\n",
       "      <td>5</td>\n",
       "      <td>154.5</td>\n",
       "      <td>772.5</td>\n",
       "      <td>2.188928</td>\n",
       "      <td>10.944642</td>\n",
       "    </tr>\n",
       "    <tr>\n",
       "      <th>5</th>\n",
       "      <td>165</td>\n",
       "      <td>184</td>\n",
       "      <td>4</td>\n",
       "      <td>174.5</td>\n",
       "      <td>698.0</td>\n",
       "      <td>2.241795</td>\n",
       "      <td>8.967182</td>\n",
       "    </tr>\n",
       "    <tr>\n",
       "      <th>6</th>\n",
       "      <td>185</td>\n",
       "      <td>204</td>\n",
       "      <td>5</td>\n",
       "      <td>194.5</td>\n",
       "      <td>972.5</td>\n",
       "      <td>2.288920</td>\n",
       "      <td>11.444598</td>\n",
       "    </tr>\n",
       "  </tbody>\n",
       "</table>\n",
       "</div>"
      ],
      "text/plain": [
       "   lower_class  upper_class  Frequency  Class_mark      Fx  Log(Class_Mark)  \\\n",
       "0           65           84          9        74.5   670.5         1.872156   \n",
       "1           85          104         10        94.5   945.0         1.975432   \n",
       "2          105          124         17       114.5  1946.5         2.058805   \n",
       "3          125          144         10       134.5  1345.0         2.128722   \n",
       "4          145          164          5       154.5   772.5         2.188928   \n",
       "5          165          184          4       174.5   698.0         2.241795   \n",
       "6          185          204          5       194.5   972.5         2.288920   \n",
       "\n",
       "   f(log(Class_mark))  \n",
       "0           16.849406  \n",
       "1           19.754318  \n",
       "2           34.999693  \n",
       "3           21.287223  \n",
       "4           10.944642  \n",
       "5            8.967182  \n",
       "6           11.444598  "
      ]
     },
     "execution_count": 454,
     "metadata": {},
     "output_type": "execute_result"
    }
   ],
   "source": [
    "df"
   ]
  },
  {
   "cell_type": "code",
   "execution_count": null,
   "metadata": {
    "id": "SK5AN3DvSsaP",
    "outputId": "d6a9b85d-2abd-48a1-a1cc-3416d561284d"
   },
   "outputs": [
    {
     "data": {
      "text/html": [
       "<div>\n",
       "<style scoped>\n",
       "    .dataframe tbody tr th:only-of-type {\n",
       "        vertical-align: middle;\n",
       "    }\n",
       "\n",
       "    .dataframe tbody tr th {\n",
       "        vertical-align: top;\n",
       "    }\n",
       "\n",
       "    .dataframe thead th {\n",
       "        text-align: right;\n",
       "    }\n",
       "</style>\n",
       "<table border=\"1\" class=\"dataframe\">\n",
       "  <thead>\n",
       "    <tr style=\"text-align: right;\">\n",
       "      <th></th>\n",
       "      <th>lower_class</th>\n",
       "      <th>upper_class</th>\n",
       "      <th>Frequency</th>\n",
       "      <th>Class_mark</th>\n",
       "      <th>Fx</th>\n",
       "      <th>Log(Class_Mark)</th>\n",
       "      <th>f(log(Class_mark))</th>\n",
       "      <th>Freq/Class Mark</th>\n",
       "    </tr>\n",
       "  </thead>\n",
       "  <tbody>\n",
       "    <tr>\n",
       "      <th>0</th>\n",
       "      <td>65</td>\n",
       "      <td>84</td>\n",
       "      <td>9</td>\n",
       "      <td>74.5</td>\n",
       "      <td>670.5</td>\n",
       "      <td>1.872156</td>\n",
       "      <td>16.849406</td>\n",
       "      <td>0.120805</td>\n",
       "    </tr>\n",
       "    <tr>\n",
       "      <th>1</th>\n",
       "      <td>85</td>\n",
       "      <td>104</td>\n",
       "      <td>10</td>\n",
       "      <td>94.5</td>\n",
       "      <td>945.0</td>\n",
       "      <td>1.975432</td>\n",
       "      <td>19.754318</td>\n",
       "      <td>0.105820</td>\n",
       "    </tr>\n",
       "    <tr>\n",
       "      <th>2</th>\n",
       "      <td>105</td>\n",
       "      <td>124</td>\n",
       "      <td>17</td>\n",
       "      <td>114.5</td>\n",
       "      <td>1946.5</td>\n",
       "      <td>2.058805</td>\n",
       "      <td>34.999693</td>\n",
       "      <td>0.148472</td>\n",
       "    </tr>\n",
       "    <tr>\n",
       "      <th>3</th>\n",
       "      <td>125</td>\n",
       "      <td>144</td>\n",
       "      <td>10</td>\n",
       "      <td>134.5</td>\n",
       "      <td>1345.0</td>\n",
       "      <td>2.128722</td>\n",
       "      <td>21.287223</td>\n",
       "      <td>0.074349</td>\n",
       "    </tr>\n",
       "    <tr>\n",
       "      <th>4</th>\n",
       "      <td>145</td>\n",
       "      <td>164</td>\n",
       "      <td>5</td>\n",
       "      <td>154.5</td>\n",
       "      <td>772.5</td>\n",
       "      <td>2.188928</td>\n",
       "      <td>10.944642</td>\n",
       "      <td>0.032362</td>\n",
       "    </tr>\n",
       "    <tr>\n",
       "      <th>5</th>\n",
       "      <td>165</td>\n",
       "      <td>184</td>\n",
       "      <td>4</td>\n",
       "      <td>174.5</td>\n",
       "      <td>698.0</td>\n",
       "      <td>2.241795</td>\n",
       "      <td>8.967182</td>\n",
       "      <td>0.022923</td>\n",
       "    </tr>\n",
       "    <tr>\n",
       "      <th>6</th>\n",
       "      <td>185</td>\n",
       "      <td>204</td>\n",
       "      <td>5</td>\n",
       "      <td>194.5</td>\n",
       "      <td>972.5</td>\n",
       "      <td>2.288920</td>\n",
       "      <td>11.444598</td>\n",
       "      <td>0.025707</td>\n",
       "    </tr>\n",
       "  </tbody>\n",
       "</table>\n",
       "</div>"
      ],
      "text/plain": [
       "   lower_class  upper_class  Frequency  Class_mark      Fx  Log(Class_Mark)  \\\n",
       "0           65           84          9        74.5   670.5         1.872156   \n",
       "1           85          104         10        94.5   945.0         1.975432   \n",
       "2          105          124         17       114.5  1946.5         2.058805   \n",
       "3          125          144         10       134.5  1345.0         2.128722   \n",
       "4          145          164          5       154.5   772.5         2.188928   \n",
       "5          165          184          4       174.5   698.0         2.241795   \n",
       "6          185          204          5       194.5   972.5         2.288920   \n",
       "\n",
       "   f(log(Class_mark))  Freq/Class Mark  \n",
       "0           16.849406         0.120805  \n",
       "1           19.754318         0.105820  \n",
       "2           34.999693         0.148472  \n",
       "3           21.287223         0.074349  \n",
       "4           10.944642         0.032362  \n",
       "5            8.967182         0.022923  \n",
       "6           11.444598         0.025707  "
      ]
     },
     "execution_count": 455,
     "metadata": {},
     "output_type": "execute_result"
    }
   ],
   "source": [
    "df['Freq/Class Mark']=df['Frequency']/df['Class_mark']\n",
    "df"
   ]
  },
  {
   "cell_type": "code",
   "execution_count": null,
   "metadata": {
    "id": "9r6XPqP3SsaP",
    "outputId": "86229d0e-d643-46ae-9c85-ab9730b62651"
   },
   "outputs": [
    {
     "name": "stdout",
     "output_type": "stream",
     "text": [
      "Harmonic Mean is 113.11394653762804\n"
     ]
    }
   ],
   "source": [
    "HM_Grouped = np.sum(df['Frequency'])/np.sum(df['Freq/Class Mark'])\n",
    "print(\"Harmonic Mean is\" ,HM_Grouped)"
   ]
  },
  {
   "cell_type": "markdown",
   "metadata": {
    "id": "k1OgvncgSsaP"
   },
   "source": [
    "### **Practise Problem 1**"
   ]
  },
  {
   "cell_type": "markdown",
   "metadata": {
    "id": "KpA2JH6sSsaP"
   },
   "source": [
    "Calculate Geometric Mean, Harmonic Mean from the following\n",
    "grouped data"
   ]
  },
  {
   "cell_type": "code",
   "execution_count": null,
   "metadata": {
    "id": "H0BtON4tSsaP",
    "outputId": "f3daadaa-fd61-4172-d3e1-f6893a2624fa"
   },
   "outputs": [
    {
     "name": "stdout",
     "output_type": "stream",
     "text": [
      "Geometric Mean is  9.407746996835922\n",
      "Harmonic Mean is  8.127490039840637\n"
     ]
    }
   ],
   "source": [
    "df=pd.DataFrame(\n",
    "    {\n",
    "        'Upper_Class':[2,5,8,11,14,17],\n",
    "            'Lower_Class':[4,7,10,13,16,19],\n",
    "            'Frequency':[3,7,9,5,4,6]\n",
    "    }\n",
    ")\n",
    "df['Class Mark']=(df['Upper_Class']+df['Lower_Class'])/2\n",
    "df['Log(X)']=np.log10(df['Class Mark'])\n",
    "df['f(Log(X))']=df['Frequency']*df['Log(X)']\n",
    "df['F/X']=df['Frequency']/df['Class Mark']\n",
    "\n",
    "GM_Grouped=np.sum(df['f(Log(X))'])/np.sum(df['Frequency'])\n",
    "GM_Grouped=np.power(10,GM_Grouped)\n",
    "\n",
    "HM_Grouped=np.sum(df['Frequency'])/np.sum(df['F/X'])\n",
    "print('Geometric Mean is ',GM_Grouped)\n",
    "print('Harmonic Mean is ',HM_Grouped)"
   ]
  },
  {
   "cell_type": "markdown",
   "metadata": {
    "id": "6dvCnaYOSsaQ"
   },
   "source": [
    "### **Problem 2**\n",
    "Calculate Arithmetic, Geometric & Harmonic Mean from the\n",
    "following data\n",
    "\n",
    "42,36,45,33,54,46,27,38,51,49,29,32"
   ]
  },
  {
   "cell_type": "code",
   "execution_count": null,
   "metadata": {
    "id": "gAwRt-k1SsaQ",
    "outputId": "355a1f5a-ac4c-4285-cfe6-0938aed0a4b4"
   },
   "outputs": [
    {
     "name": "stdout",
     "output_type": "stream",
     "text": [
      "Arithematic Mean is 40.166666666666664\n",
      "Geometric Mean is  39.23\n",
      "Harmonic Mean is 38.28\n"
     ]
    }
   ],
   "source": [
    "list=[42,36,45,33,54,46,27,38,51,49,29,32]\n",
    "AM=np.sum(list)/len(list)\n",
    "\n",
    "\n",
    "GM=np.exp(np.mean(np.log(list)))\n",
    "GM=round(G_M,2)\n",
    "\n",
    "reciprocal=[1/i for i in list]\n",
    "HM=len(list)/np.sum(reciprocal)\n",
    "HM=round(HM,2)\n",
    "print('Arithematic Mean is',AM)\n",
    "print('Geometric Mean is ',GM)\n",
    "print(\"Harmonic Mean is\",HM)"
   ]
  },
  {
   "cell_type": "markdown",
   "metadata": {
    "id": "rbBRCV79SsaQ"
   },
   "source": [
    "### **Problem 3**\n",
    "A man travels from Lahore to Islamabad by a car and takes 4 hours\n",
    "to cover the whole distance. In the first hour he travels at a speed\n",
    "of 50 km/hr, in the second hour his speed is 64 km/hr, in third hour\n",
    "his speed is 80 km/hr and in the fourth hour he travels at the speed\n",
    "of 55 km/hr. Find the average speed of the motorist"
   ]
  },
  {
   "cell_type": "code",
   "execution_count": null,
   "metadata": {
    "id": "_-LFn5WOSsaQ",
    "outputId": "29677b23-42a9-43de-9ac8-e72804d3e9f1"
   },
   "outputs": [
    {
     "name": "stdout",
     "output_type": "stream",
     "text": [
      "Average Speed is 62.25\n"
     ]
    }
   ],
   "source": [
    "list=[50,64,80,55]\n",
    "Average_speed=np.sum(list)/len(list)\n",
    "print('Average Speed is',Average_speed)"
   ]
  },
  {
   "cell_type": "markdown",
   "metadata": {
    "id": "BmzZsCcSSsaR"
   },
   "source": [
    "### **Problem 4**\n",
    "\n",
    "If a strain of bacteria increases its population by 20% in the first\n",
    "hour, 30% in the next hour and 50% in the next hour, find out an\n",
    "estimate of the mean percentage growth in population. Starting\n",
    "with the population of 100 bacteria"
   ]
  },
  {
   "cell_type": "code",
   "execution_count": null,
   "metadata": {
    "id": "mHqhiyZmSsaR",
    "outputId": "8d73c7a3-5371-4c16-fbc4-7822e4eac349"
   },
   "outputs": [
    {
     "name": "stdout",
     "output_type": "stream",
     "text": [
      "Mean percentage change is 33.33 %\n"
     ]
    }
   ],
   "source": [
    "percentage=[20,30,50]\n",
    "AM=np.mean(percentage)\n",
    "AM=round(AM,2)\n",
    "print('Mean percentage change is',AM,\"%\")"
   ]
  },
  {
   "cell_type": "markdown",
   "metadata": {
    "id": "Guo2lV6pSsaR"
   },
   "source": [
    "# **4. POSITIONAL MEASURES OF CENTRAL TENDENCY**"
   ]
  },
  {
   "cell_type": "markdown",
   "metadata": {
    "id": "10xkkNFHSsaR"
   },
   "source": [
    "## **Median**"
   ]
  },
  {
   "cell_type": "markdown",
   "metadata": {
    "id": "XLaa76sBSsaS"
   },
   "source": [
    "### **Ungrouped Data**"
   ]
  },
  {
   "cell_type": "markdown",
   "metadata": {
    "id": "3akGrm0xSsaS"
   },
   "source": [
    "The formula for Median for Ungrouped Data is <br>\n",
    "### **<center>If n is odd, the Median is the middle number</center>**\n",
    "### **<center>If n is even, the Median is the average of the two middle numbers</center>**"
   ]
  },
  {
   "cell_type": "code",
   "execution_count": null,
   "metadata": {
    "id": "6AaXf-8ZSsaS",
    "outputId": "354c0cbd-f433-4440-bd01-d1846645a86e"
   },
   "outputs": [
    {
     "name": "stdout",
     "output_type": "stream",
     "text": [
      "Median using Numpy  40.0\n",
      "Median using manual calculation is  40.0\n"
     ]
    }
   ],
   "source": [
    "list=[32, 36, 36, 37, 39, 41, 45, 46, 48,49]\n",
    "print('Median using Numpy ',np.median(list))\n",
    "list.sort()\n",
    "size=len(list)\n",
    "if len(list)%2!=0:\n",
    "    median=int(len(list)/2)\n",
    "    print('Median using manual calculation is ',list[median])\n",
    "\n",
    "else:\n",
    "    median1=int((len(list)/2)-1)\n",
    "    median2=int(len(list)/2)\n",
    "    median=((list[median1]+list[median2])/2)\n",
    "    print('Median using manual calculation is ',(median))"
   ]
  },
  {
   "cell_type": "markdown",
   "metadata": {
    "id": "uITGC72_SsaS"
   },
   "source": [
    "### **Grouped Data**\n",
    "\n"
   ]
  },
  {
   "cell_type": "markdown",
   "metadata": {
    "id": "gTdqYzpWSsaS"
   },
   "source": [
    "The forumula for Median of Grouped data is <br>\n",
    "### **<center>Median = l + (h/f)*(n/2)+C<center>**\n",
    "where, <br>\n",
    "l = lower limit of median class <br>\n",
    "h = class size <br>\n",
    "f = frequency of median class <br>\n",
    "n = total frequency <br>\n",
    "C = cumulative frequency of class preceding the median class <br>"
   ]
  },
  {
   "cell_type": "code",
   "execution_count": null,
   "metadata": {
    "id": "TSfo8XUrSsaS",
    "outputId": "fd8dd11f-57c9-4dab-f61c-100d94edc529"
   },
   "outputs": [
    {
     "data": {
      "text/html": [
       "<div>\n",
       "<style scoped>\n",
       "    .dataframe tbody tr th:only-of-type {\n",
       "        vertical-align: middle;\n",
       "    }\n",
       "\n",
       "    .dataframe tbody tr th {\n",
       "        vertical-align: top;\n",
       "    }\n",
       "\n",
       "    .dataframe thead th {\n",
       "        text-align: right;\n",
       "    }\n",
       "</style>\n",
       "<table border=\"1\" class=\"dataframe\">\n",
       "  <thead>\n",
       "    <tr style=\"text-align: right;\">\n",
       "      <th></th>\n",
       "      <th>lower_class</th>\n",
       "      <th>upper_class</th>\n",
       "      <th>Frequency</th>\n",
       "      <th>Class_mark</th>\n",
       "      <th>Fx</th>\n",
       "    </tr>\n",
       "  </thead>\n",
       "  <tbody>\n",
       "    <tr>\n",
       "      <th>0</th>\n",
       "      <td>65</td>\n",
       "      <td>84</td>\n",
       "      <td>9</td>\n",
       "      <td>74.5</td>\n",
       "      <td>670.5</td>\n",
       "    </tr>\n",
       "    <tr>\n",
       "      <th>1</th>\n",
       "      <td>85</td>\n",
       "      <td>104</td>\n",
       "      <td>10</td>\n",
       "      <td>94.5</td>\n",
       "      <td>945.0</td>\n",
       "    </tr>\n",
       "    <tr>\n",
       "      <th>2</th>\n",
       "      <td>105</td>\n",
       "      <td>124</td>\n",
       "      <td>17</td>\n",
       "      <td>114.5</td>\n",
       "      <td>1946.5</td>\n",
       "    </tr>\n",
       "    <tr>\n",
       "      <th>3</th>\n",
       "      <td>125</td>\n",
       "      <td>144</td>\n",
       "      <td>10</td>\n",
       "      <td>134.5</td>\n",
       "      <td>1345.0</td>\n",
       "    </tr>\n",
       "    <tr>\n",
       "      <th>4</th>\n",
       "      <td>145</td>\n",
       "      <td>164</td>\n",
       "      <td>5</td>\n",
       "      <td>154.5</td>\n",
       "      <td>772.5</td>\n",
       "    </tr>\n",
       "    <tr>\n",
       "      <th>5</th>\n",
       "      <td>165</td>\n",
       "      <td>184</td>\n",
       "      <td>4</td>\n",
       "      <td>174.5</td>\n",
       "      <td>698.0</td>\n",
       "    </tr>\n",
       "    <tr>\n",
       "      <th>6</th>\n",
       "      <td>185</td>\n",
       "      <td>204</td>\n",
       "      <td>5</td>\n",
       "      <td>194.5</td>\n",
       "      <td>972.5</td>\n",
       "    </tr>\n",
       "  </tbody>\n",
       "</table>\n",
       "</div>"
      ],
      "text/plain": [
       "   lower_class  upper_class  Frequency  Class_mark      Fx\n",
       "0           65           84          9        74.5   670.5\n",
       "1           85          104         10        94.5   945.0\n",
       "2          105          124         17       114.5  1946.5\n",
       "3          125          144         10       134.5  1345.0\n",
       "4          145          164          5       154.5   772.5\n",
       "5          165          184          4       174.5   698.0\n",
       "6          185          204          5       194.5   972.5"
      ]
     },
     "execution_count": 459,
     "metadata": {},
     "output_type": "execute_result"
    }
   ],
   "source": [
    "df"
   ]
  },
  {
   "cell_type": "code",
   "execution_count": null,
   "metadata": {
    "id": "Bhx56FGlSsaT",
    "outputId": "157a2feb-07c4-48f1-9809-c301c9690f9b"
   },
   "outputs": [
    {
     "data": {
      "text/html": [
       "<div>\n",
       "<style scoped>\n",
       "    .dataframe tbody tr th:only-of-type {\n",
       "        vertical-align: middle;\n",
       "    }\n",
       "\n",
       "    .dataframe tbody tr th {\n",
       "        vertical-align: top;\n",
       "    }\n",
       "\n",
       "    .dataframe thead th {\n",
       "        text-align: right;\n",
       "    }\n",
       "</style>\n",
       "<table border=\"1\" class=\"dataframe\">\n",
       "  <thead>\n",
       "    <tr style=\"text-align: right;\">\n",
       "      <th></th>\n",
       "      <th>Index</th>\n",
       "      <th>lower_class</th>\n",
       "      <th>upper_class</th>\n",
       "      <th>Frequency</th>\n",
       "      <th>Class_mark</th>\n",
       "      <th>Fx</th>\n",
       "      <th>Lower_class_boundary</th>\n",
       "      <th>Upper_class_boundary</th>\n",
       "      <th>Commulative</th>\n",
       "    </tr>\n",
       "  </thead>\n",
       "  <tbody>\n",
       "    <tr>\n",
       "      <th>0</th>\n",
       "      <td>0</td>\n",
       "      <td>65</td>\n",
       "      <td>84</td>\n",
       "      <td>9</td>\n",
       "      <td>74.5</td>\n",
       "      <td>670.5</td>\n",
       "      <td>64.5</td>\n",
       "      <td>84.5</td>\n",
       "      <td>9</td>\n",
       "    </tr>\n",
       "    <tr>\n",
       "      <th>1</th>\n",
       "      <td>1</td>\n",
       "      <td>85</td>\n",
       "      <td>104</td>\n",
       "      <td>10</td>\n",
       "      <td>94.5</td>\n",
       "      <td>945.0</td>\n",
       "      <td>84.5</td>\n",
       "      <td>104.5</td>\n",
       "      <td>19</td>\n",
       "    </tr>\n",
       "    <tr>\n",
       "      <th>2</th>\n",
       "      <td>2</td>\n",
       "      <td>105</td>\n",
       "      <td>124</td>\n",
       "      <td>17</td>\n",
       "      <td>114.5</td>\n",
       "      <td>1946.5</td>\n",
       "      <td>104.5</td>\n",
       "      <td>124.5</td>\n",
       "      <td>36</td>\n",
       "    </tr>\n",
       "    <tr>\n",
       "      <th>3</th>\n",
       "      <td>3</td>\n",
       "      <td>125</td>\n",
       "      <td>144</td>\n",
       "      <td>10</td>\n",
       "      <td>134.5</td>\n",
       "      <td>1345.0</td>\n",
       "      <td>124.5</td>\n",
       "      <td>144.5</td>\n",
       "      <td>46</td>\n",
       "    </tr>\n",
       "    <tr>\n",
       "      <th>4</th>\n",
       "      <td>4</td>\n",
       "      <td>145</td>\n",
       "      <td>164</td>\n",
       "      <td>5</td>\n",
       "      <td>154.5</td>\n",
       "      <td>772.5</td>\n",
       "      <td>144.5</td>\n",
       "      <td>164.5</td>\n",
       "      <td>51</td>\n",
       "    </tr>\n",
       "    <tr>\n",
       "      <th>5</th>\n",
       "      <td>5</td>\n",
       "      <td>165</td>\n",
       "      <td>184</td>\n",
       "      <td>4</td>\n",
       "      <td>174.5</td>\n",
       "      <td>698.0</td>\n",
       "      <td>164.5</td>\n",
       "      <td>184.5</td>\n",
       "      <td>55</td>\n",
       "    </tr>\n",
       "    <tr>\n",
       "      <th>6</th>\n",
       "      <td>6</td>\n",
       "      <td>185</td>\n",
       "      <td>204</td>\n",
       "      <td>5</td>\n",
       "      <td>194.5</td>\n",
       "      <td>972.5</td>\n",
       "      <td>184.5</td>\n",
       "      <td>204.5</td>\n",
       "      <td>60</td>\n",
       "    </tr>\n",
       "  </tbody>\n",
       "</table>\n",
       "</div>"
      ],
      "text/plain": [
       "   Index  lower_class  upper_class  Frequency  Class_mark      Fx  \\\n",
       "0      0           65           84          9        74.5   670.5   \n",
       "1      1           85          104         10        94.5   945.0   \n",
       "2      2          105          124         17       114.5  1946.5   \n",
       "3      3          125          144         10       134.5  1345.0   \n",
       "4      4          145          164          5       154.5   772.5   \n",
       "5      5          165          184          4       174.5   698.0   \n",
       "6      6          185          204          5       194.5   972.5   \n",
       "\n",
       "   Lower_class_boundary  Upper_class_boundary  Commulative  \n",
       "0                  64.5                  84.5            9  \n",
       "1                  84.5                 104.5           19  \n",
       "2                 104.5                 124.5           36  \n",
       "3                 124.5                 144.5           46  \n",
       "4                 144.5                 164.5           51  \n",
       "5                 164.5                 184.5           55  \n",
       "6                 184.5                 204.5           60  "
      ]
     },
     "execution_count": 460,
     "metadata": {},
     "output_type": "execute_result"
    }
   ],
   "source": [
    "df['Lower_class_boundary']=df['lower_class']-0.5\n",
    "df['Upper_class_boundary']=df['upper_class']+0.5\n",
    "\n",
    "\n",
    "df['Commulative']=0\n",
    "\n",
    "df.insert(0, 'Index', df.index)\n",
    "\n",
    "for i in range(len(df)):\n",
    "    if i==0:\n",
    "        df.loc[i,'Commulative']=df.loc[i,'Frequency']\n",
    "    else:\n",
    "        df.loc[i,'Commulative']=df.loc[i,'Frequency']+df.loc[i-1,'Commulative']\n",
    "\n",
    "df\n",
    "#median_class=df[]"
   ]
  },
  {
   "cell_type": "code",
   "execution_count": null,
   "metadata": {
    "id": "6p8Ouy-bSsaT",
    "outputId": "2ce47e93-e2dc-462d-b498-8c7ed609158d"
   },
   "outputs": [
    {
     "name": "stdout",
     "output_type": "stream",
     "text": [
      "Median is  117.44117647058823\n"
     ]
    }
   ],
   "source": [
    "sum=np.sum(df['Frequency'])\n",
    "var=sum/2\n",
    "median_class=df[df['Commulative']>var]\n",
    "\n",
    "median_index=median_class.index[0]\n",
    "median_index\n",
    "\n",
    "f=df['Frequency'][median_index]\n",
    "h=df['Upper_class_boundary'][median_index]-df['Lower_class_boundary'][median_index]\n",
    "i=df['Lower_class_boundary'][median_index]\n",
    "c=df['Commulative'][median_index-1]\n",
    "\n",
    "Median=i+((h/f)*(((sum/2))-c))\n",
    "print('Median is ' ,Median)"
   ]
  },
  {
   "cell_type": "markdown",
   "metadata": {
    "id": "XYQtesu2SsaT"
   },
   "source": [
    "### **Example 2**\n",
    "Find the Median for the given frequency distribution"
   ]
  },
  {
   "cell_type": "code",
   "execution_count": null,
   "metadata": {
    "id": "NL1_Sr1dSsaT",
    "outputId": "2f553c0a-6e5c-4d18-a412-e86d6426d275"
   },
   "outputs": [
    {
     "name": "stdout",
     "output_type": "stream",
     "text": [
      "Median is 37.9\n"
     ]
    }
   ],
   "source": [
    "\n",
    "df = pd.DataFrame({\n",
    "    'Lower Class Boundary': [29.95, 32.95, 35.95, 38.95, 41.95],\n",
    "    'Upper Class Boundary': [32.95, 35.95, 38.95, 41.95, 44.95],\n",
    "    'Rating':[2, 4, 14, 8, 2],\n",
    "    'No. of Cars': [2, 4, 14, 8, 2],\n",
    "    'Cummulative': [2, 6, 20, 28, 30]\n",
    "})\n",
    "df\n",
    "\n",
    "sum=np.sum(df['Rating'])\n",
    "\n",
    "var=sum/2\n",
    "\n",
    "median_class=df[df['Cummulative']>var]\n",
    "\n",
    "median_index=median_class.index[0]\n",
    "median_index\n",
    "f=df['No. of Cars'][median_index]\n",
    "h=df['Upper Class Boundary'][median_index]-df['Lower Class Boundary'][median_index]\n",
    "i=df['Lower Class Boundary'][median_index]\n",
    "c=df['Cummulative'][median_index-1]\n",
    "\n",
    "Median=i+((h/f)*(((sum/2))-c))\n",
    "Median=round(Median,1)\n",
    "print(\"Median is\",Median)"
   ]
  },
  {
   "cell_type": "markdown",
   "metadata": {
    "id": "K7Uy_MsDSsaT"
   },
   "source": [
    "## **Mode**"
   ]
  },
  {
   "cell_type": "markdown",
   "metadata": {
    "id": "2t9HgwVySsaU"
   },
   "source": [
    "### **Ungrouped Data**"
   ]
  },
  {
   "cell_type": "markdown",
   "metadata": {
    "id": "LJgEJFOMSsaU"
   },
   "source": [
    "Mode of Ungrouped data is most repititive value"
   ]
  },
  {
   "cell_type": "markdown",
   "metadata": {
    "id": "wcq84L3YSsaU"
   },
   "source": [
    "The Marks obtained by 9 students are given by 45,32,37,46,39,36,\n",
    "41,48,36. Calculate Mode"
   ]
  },
  {
   "cell_type": "code",
   "execution_count": null,
   "metadata": {
    "id": "oRUL7q-mSsaU",
    "outputId": "f2e5407a-12df-4893-81ba-329708b10890"
   },
   "outputs": [
    {
     "name": "stdout",
     "output_type": "stream",
     "text": [
      "Mode using Numpy is 36\n"
     ]
    }
   ],
   "source": [
    "list= [32, 36, 36, 37, 39, 41, 45, 46, 48]\n",
    "count=np.bincount(list)\n",
    "mode=np.argmax(count)\n",
    "print(\"Mode using Numpy is\",mode)"
   ]
  },
  {
   "cell_type": "markdown",
   "metadata": {
    "id": "6KQTN4dRSsaU"
   },
   "source": [
    "### **Grouped Data**"
   ]
  },
  {
   "cell_type": "markdown",
   "metadata": {
    "id": "Lw6DWZ8ESsaU"
   },
   "source": [
    "The formula for Mode of Ungrouped data is <br>\n",
    "### **<center>Mode =l+ (fm-f1)/( (fm-f1)-(fm-f2)) * h</center>**\n",
    "where, <br>\n",
    "l = lower limit of the modal class <br>\n",
    "fm = frequency of the modal class <br>\n",
    "f1 = frequency of the class preceding the modal class <br>\n",
    "f2 = frequency of the class succeeding the modal class <br>\n",
    "h = width of the class interval <br>\n"
   ]
  },
  {
   "cell_type": "code",
   "execution_count": null,
   "metadata": {
    "id": "j_OXb99OSsaU",
    "outputId": "e6c1c6e7-0e62-470a-ab95-eb535c5e21f6"
   },
   "outputs": [
    {
     "data": {
      "text/html": [
       "<div>\n",
       "<style scoped>\n",
       "    .dataframe tbody tr th:only-of-type {\n",
       "        vertical-align: middle;\n",
       "    }\n",
       "\n",
       "    .dataframe tbody tr th {\n",
       "        vertical-align: top;\n",
       "    }\n",
       "\n",
       "    .dataframe thead th {\n",
       "        text-align: right;\n",
       "    }\n",
       "</style>\n",
       "<table border=\"1\" class=\"dataframe\">\n",
       "  <thead>\n",
       "    <tr style=\"text-align: right;\">\n",
       "      <th></th>\n",
       "      <th>lower_class</th>\n",
       "      <th>upper_class</th>\n",
       "      <th>Frequency</th>\n",
       "      <th>Class_mark</th>\n",
       "      <th>Fx</th>\n",
       "    </tr>\n",
       "  </thead>\n",
       "  <tbody>\n",
       "    <tr>\n",
       "      <th>0</th>\n",
       "      <td>65</td>\n",
       "      <td>84</td>\n",
       "      <td>9</td>\n",
       "      <td>74.5</td>\n",
       "      <td>670.5</td>\n",
       "    </tr>\n",
       "    <tr>\n",
       "      <th>1</th>\n",
       "      <td>85</td>\n",
       "      <td>104</td>\n",
       "      <td>10</td>\n",
       "      <td>94.5</td>\n",
       "      <td>945.0</td>\n",
       "    </tr>\n",
       "    <tr>\n",
       "      <th>2</th>\n",
       "      <td>105</td>\n",
       "      <td>124</td>\n",
       "      <td>17</td>\n",
       "      <td>114.5</td>\n",
       "      <td>1946.5</td>\n",
       "    </tr>\n",
       "    <tr>\n",
       "      <th>3</th>\n",
       "      <td>125</td>\n",
       "      <td>144</td>\n",
       "      <td>10</td>\n",
       "      <td>134.5</td>\n",
       "      <td>1345.0</td>\n",
       "    </tr>\n",
       "    <tr>\n",
       "      <th>4</th>\n",
       "      <td>145</td>\n",
       "      <td>164</td>\n",
       "      <td>5</td>\n",
       "      <td>154.5</td>\n",
       "      <td>772.5</td>\n",
       "    </tr>\n",
       "    <tr>\n",
       "      <th>5</th>\n",
       "      <td>165</td>\n",
       "      <td>184</td>\n",
       "      <td>4</td>\n",
       "      <td>174.5</td>\n",
       "      <td>698.0</td>\n",
       "    </tr>\n",
       "    <tr>\n",
       "      <th>6</th>\n",
       "      <td>185</td>\n",
       "      <td>204</td>\n",
       "      <td>5</td>\n",
       "      <td>194.5</td>\n",
       "      <td>972.5</td>\n",
       "    </tr>\n",
       "  </tbody>\n",
       "</table>\n",
       "</div>"
      ],
      "text/plain": [
       "   lower_class  upper_class  Frequency  Class_mark      Fx\n",
       "0           65           84          9        74.5   670.5\n",
       "1           85          104         10        94.5   945.0\n",
       "2          105          124         17       114.5  1946.5\n",
       "3          125          144         10       134.5  1345.0\n",
       "4          145          164          5       154.5   772.5\n",
       "5          165          184          4       174.5   698.0\n",
       "6          185          204          5       194.5   972.5"
      ]
     },
     "execution_count": 493,
     "metadata": {},
     "output_type": "execute_result"
    }
   ],
   "source": [
    "df"
   ]
  },
  {
   "cell_type": "code",
   "execution_count": null,
   "metadata": {
    "id": "MB6RWuBFSsaU"
   },
   "outputs": [],
   "source": [
    "df.insert(0, 'Index', df.index)"
   ]
  },
  {
   "cell_type": "code",
   "execution_count": null,
   "metadata": {
    "id": "tiXac-OlSsaV",
    "outputId": "7f43f267-1e08-4fe2-d7d8-ad76b1962495"
   },
   "outputs": [
    {
     "data": {
      "text/html": [
       "<div>\n",
       "<style scoped>\n",
       "    .dataframe tbody tr th:only-of-type {\n",
       "        vertical-align: middle;\n",
       "    }\n",
       "\n",
       "    .dataframe tbody tr th {\n",
       "        vertical-align: top;\n",
       "    }\n",
       "\n",
       "    .dataframe thead th {\n",
       "        text-align: right;\n",
       "    }\n",
       "</style>\n",
       "<table border=\"1\" class=\"dataframe\">\n",
       "  <thead>\n",
       "    <tr style=\"text-align: right;\">\n",
       "      <th></th>\n",
       "      <th>Index</th>\n",
       "      <th>lower_class</th>\n",
       "      <th>upper_class</th>\n",
       "      <th>Frequency</th>\n",
       "      <th>Class_mark</th>\n",
       "      <th>Fx</th>\n",
       "    </tr>\n",
       "  </thead>\n",
       "  <tbody>\n",
       "    <tr>\n",
       "      <th>0</th>\n",
       "      <td>0</td>\n",
       "      <td>65</td>\n",
       "      <td>84</td>\n",
       "      <td>9</td>\n",
       "      <td>74.5</td>\n",
       "      <td>670.5</td>\n",
       "    </tr>\n",
       "    <tr>\n",
       "      <th>1</th>\n",
       "      <td>1</td>\n",
       "      <td>85</td>\n",
       "      <td>104</td>\n",
       "      <td>10</td>\n",
       "      <td>94.5</td>\n",
       "      <td>945.0</td>\n",
       "    </tr>\n",
       "    <tr>\n",
       "      <th>2</th>\n",
       "      <td>2</td>\n",
       "      <td>105</td>\n",
       "      <td>124</td>\n",
       "      <td>17</td>\n",
       "      <td>114.5</td>\n",
       "      <td>1946.5</td>\n",
       "    </tr>\n",
       "    <tr>\n",
       "      <th>3</th>\n",
       "      <td>3</td>\n",
       "      <td>125</td>\n",
       "      <td>144</td>\n",
       "      <td>10</td>\n",
       "      <td>134.5</td>\n",
       "      <td>1345.0</td>\n",
       "    </tr>\n",
       "    <tr>\n",
       "      <th>4</th>\n",
       "      <td>4</td>\n",
       "      <td>145</td>\n",
       "      <td>164</td>\n",
       "      <td>5</td>\n",
       "      <td>154.5</td>\n",
       "      <td>772.5</td>\n",
       "    </tr>\n",
       "    <tr>\n",
       "      <th>5</th>\n",
       "      <td>5</td>\n",
       "      <td>165</td>\n",
       "      <td>184</td>\n",
       "      <td>4</td>\n",
       "      <td>174.5</td>\n",
       "      <td>698.0</td>\n",
       "    </tr>\n",
       "    <tr>\n",
       "      <th>6</th>\n",
       "      <td>6</td>\n",
       "      <td>185</td>\n",
       "      <td>204</td>\n",
       "      <td>5</td>\n",
       "      <td>194.5</td>\n",
       "      <td>972.5</td>\n",
       "    </tr>\n",
       "  </tbody>\n",
       "</table>\n",
       "</div>"
      ],
      "text/plain": [
       "   Index  lower_class  upper_class  Frequency  Class_mark      Fx\n",
       "0      0           65           84          9        74.5   670.5\n",
       "1      1           85          104         10        94.5   945.0\n",
       "2      2          105          124         17       114.5  1946.5\n",
       "3      3          125          144         10       134.5  1345.0\n",
       "4      4          145          164          5       154.5   772.5\n",
       "5      5          165          184          4       174.5   698.0\n",
       "6      6          185          204          5       194.5   972.5"
      ]
     },
     "execution_count": 500,
     "metadata": {},
     "output_type": "execute_result"
    }
   ],
   "source": [
    "df"
   ]
  },
  {
   "cell_type": "code",
   "execution_count": null,
   "metadata": {
    "id": "1FxDS_VySsaV",
    "outputId": "cba26650-47a1-4b38-c220-da3facc42bc1"
   },
   "outputs": [
    {
     "data": {
      "text/plain": [
       "114.5"
      ]
     },
     "execution_count": 520,
     "metadata": {},
     "output_type": "execute_result"
    }
   ],
   "source": [
    "max_freq=max(df['Frequency'])\n",
    "mode_class=df[df['Frequency']==max_freq]\n",
    "mode_class_index=mode_class.index[0]\n",
    "\n",
    "df['Lower_class_boundary']=df['lower_class']-0.5\n",
    "df['Upper_class_boundary']=df['upper_class']+0.5\n",
    "\n",
    "l=df['Lower_class_boundary'][mode_class_index]\n",
    "h=df['Upper_class_boundary'][mode_class_index]-df['Lower_class_boundary'][mode_class_index]\n",
    "f1=df['Frequency'][mode_class_index-1]\n",
    "f2=df['Frequency'][mode_class_index+1]\n",
    "\n",
    "Mode=l+((max_freq-f1)/((max_freq-f1)+(max_freq-f2)))*h\n",
    "\n",
    "Mode"
   ]
  },
  {
   "cell_type": "markdown",
   "metadata": {
    "id": "ym0d7yu4SsaV"
   },
   "source": [
    "# **5. QUANTILES**"
   ]
  },
  {
   "cell_type": "markdown",
   "metadata": {
    "id": "XJuz5lOpSsaV"
   },
   "source": [
    "## **Quartiles**\n",
    "Splitting the ranked or ordered data into 4\n",
    "equal groups. Each group is called a\n",
    "quarter\n",
    "<ul>\n",
    "<li>Each quarter has a share of 25% in it</li>\n",
    "\n",
    "<li>Quartiles are represented as Q1 ,Q2 & Q3</li>\n",
    "\n",
    "<li>Quartile is a measure that tells us about\n",
    "the share of dataset falling below it</li>\n",
    "\n",
    "<li>Q1 mean 25% or 1⁄4 of the data is equal to or below it for Q3 75%\n",
    "or 3⁄4 of the data is equal to or below it</li>\n",
    "<li>The first quartile is also known as Lower Quartile and third is\n",
    "known as Upper Quartile</li>\n",
    "</ul>\n",
    "\n",
    "## **Interquartile Range**\n",
    "Quartile range also known as mid-spread is the difference\n",
    "between third and first quartile\n",
    "### **<center>IQR=Q3-Q1</center>**\n",
    "### **Ungrouped Data**\n",
    "### **<center>Qi = i((n+1)/4)th Term</center>**\n",
    "\n"
   ]
  },
  {
   "cell_type": "code",
   "execution_count": null,
   "metadata": {
    "id": "LEMlq9eOSsaV",
    "outputId": "d46ba07f-99cf-4065-b33b-f3fec4065d68"
   },
   "outputs": [
    {
     "name": "stdout",
     "output_type": "stream",
     "text": [
      "Doing it manually, IQR is 9\n",
      "Doing it in numpy : 9\n"
     ]
    }
   ],
   "source": [
    "list=[45,32,37,46,39,36,41,48,36]\n",
    "list.sort()\n",
    "\n",
    "Q1= 1*((len(list)+1)/4)\n",
    "Q3= 3*((len(list)+1)/4)\n",
    "\n",
    "IQR=  list[int(Q3-1)]-list[int(Q1-1)]\n",
    "\n",
    "print(\"Doing it manually, IQR is\",IQR)\n",
    "\n",
    "Q1=np.percentile(list,25)\n",
    "Q3=np.percentile(list,75)\n",
    "IQR=int(Q3)-int(Q1)\n",
    "print('Doing it in numpy :',IQR)\n",
    "\n"
   ]
  },
  {
   "cell_type": "markdown",
   "metadata": {
    "id": "2p9LYAtYSsaV"
   },
   "source": [
    "### **Grouped Data**"
   ]
  },
  {
   "cell_type": "markdown",
   "metadata": {
    "id": "RvKBZuVNSsaW"
   },
   "source": [
    "#### **Formula**\n",
    "#### **<center>Qi= l+(h/f)*(((i*n)/4)-c):&nbsp; Where:i=1,2,3</center>**\n"
   ]
  },
  {
   "cell_type": "code",
   "execution_count": null,
   "metadata": {
    "id": "MwLahmGiSsaW",
    "outputId": "b19c6044-e7fd-4eef-ecf7-083852cb51b1"
   },
   "outputs": [
    {
     "data": {
      "text/html": [
       "<div>\n",
       "<style scoped>\n",
       "    .dataframe tbody tr th:only-of-type {\n",
       "        vertical-align: middle;\n",
       "    }\n",
       "\n",
       "    .dataframe tbody tr th {\n",
       "        vertical-align: top;\n",
       "    }\n",
       "\n",
       "    .dataframe thead th {\n",
       "        text-align: right;\n",
       "    }\n",
       "</style>\n",
       "<table border=\"1\" class=\"dataframe\">\n",
       "  <thead>\n",
       "    <tr style=\"text-align: right;\">\n",
       "      <th></th>\n",
       "      <th>Index</th>\n",
       "      <th>lower_class</th>\n",
       "      <th>upper_class</th>\n",
       "      <th>Frequency</th>\n",
       "      <th>CF</th>\n",
       "    </tr>\n",
       "  </thead>\n",
       "  <tbody>\n",
       "    <tr>\n",
       "      <th>0</th>\n",
       "      <td>0</td>\n",
       "      <td>65</td>\n",
       "      <td>84</td>\n",
       "      <td>9</td>\n",
       "      <td>9</td>\n",
       "    </tr>\n",
       "    <tr>\n",
       "      <th>1</th>\n",
       "      <td>1</td>\n",
       "      <td>85</td>\n",
       "      <td>104</td>\n",
       "      <td>10</td>\n",
       "      <td>19</td>\n",
       "    </tr>\n",
       "    <tr>\n",
       "      <th>2</th>\n",
       "      <td>2</td>\n",
       "      <td>105</td>\n",
       "      <td>124</td>\n",
       "      <td>17</td>\n",
       "      <td>36</td>\n",
       "    </tr>\n",
       "    <tr>\n",
       "      <th>3</th>\n",
       "      <td>3</td>\n",
       "      <td>125</td>\n",
       "      <td>144</td>\n",
       "      <td>10</td>\n",
       "      <td>46</td>\n",
       "    </tr>\n",
       "    <tr>\n",
       "      <th>4</th>\n",
       "      <td>4</td>\n",
       "      <td>145</td>\n",
       "      <td>164</td>\n",
       "      <td>5</td>\n",
       "      <td>51</td>\n",
       "    </tr>\n",
       "    <tr>\n",
       "      <th>5</th>\n",
       "      <td>5</td>\n",
       "      <td>165</td>\n",
       "      <td>184</td>\n",
       "      <td>4</td>\n",
       "      <td>55</td>\n",
       "    </tr>\n",
       "    <tr>\n",
       "      <th>6</th>\n",
       "      <td>6</td>\n",
       "      <td>185</td>\n",
       "      <td>204</td>\n",
       "      <td>5</td>\n",
       "      <td>60</td>\n",
       "    </tr>\n",
       "  </tbody>\n",
       "</table>\n",
       "</div>"
      ],
      "text/plain": [
       "   Index  lower_class  upper_class  Frequency  CF\n",
       "0      0           65           84          9   9\n",
       "1      1           85          104         10  19\n",
       "2      2          105          124         17  36\n",
       "3      3          125          144         10  46\n",
       "4      4          145          164          5  51\n",
       "5      5          165          184          4  55\n",
       "6      6          185          204          5  60"
      ]
     },
     "execution_count": 20,
     "metadata": {},
     "output_type": "execute_result"
    }
   ],
   "source": [
    "df=pd.DataFrame(\n",
    "    {\n",
    "     'lower_class': [65,85,105,125,145,165,185],\n",
    "        'upper_class':[84,104,124,144,164,184,204],\n",
    "            'Frequency':[9,10,17,10,5,4,5],\n",
    "            'CF':[9,19,36,46,51,55,60]\n",
    "    }\n",
    ")\n",
    "df.insert(0, 'Index', df.index)\n",
    "df"
   ]
  },
  {
   "cell_type": "code",
   "execution_count": null,
   "metadata": {
    "id": "wdtWjseTSsaW",
    "outputId": "70ddfe99-86a1-432b-b5b3-6855b001f701"
   },
   "outputs": [
    {
     "data": {
      "text/html": [
       "<div>\n",
       "<style scoped>\n",
       "    .dataframe tbody tr th:only-of-type {\n",
       "        vertical-align: middle;\n",
       "    }\n",
       "\n",
       "    .dataframe tbody tr th {\n",
       "        vertical-align: top;\n",
       "    }\n",
       "\n",
       "    .dataframe thead th {\n",
       "        text-align: right;\n",
       "    }\n",
       "</style>\n",
       "<table border=\"1\" class=\"dataframe\">\n",
       "  <thead>\n",
       "    <tr style=\"text-align: right;\">\n",
       "      <th></th>\n",
       "      <th>Index</th>\n",
       "      <th>lower_class</th>\n",
       "      <th>upper_class</th>\n",
       "      <th>Frequency</th>\n",
       "      <th>CF</th>\n",
       "      <th>Lower class boundary</th>\n",
       "      <th>upper class boundary</th>\n",
       "    </tr>\n",
       "  </thead>\n",
       "  <tbody>\n",
       "    <tr>\n",
       "      <th>0</th>\n",
       "      <td>0</td>\n",
       "      <td>65</td>\n",
       "      <td>84</td>\n",
       "      <td>9</td>\n",
       "      <td>9</td>\n",
       "      <td>64.5</td>\n",
       "      <td>84.5</td>\n",
       "    </tr>\n",
       "    <tr>\n",
       "      <th>1</th>\n",
       "      <td>1</td>\n",
       "      <td>85</td>\n",
       "      <td>104</td>\n",
       "      <td>10</td>\n",
       "      <td>19</td>\n",
       "      <td>84.5</td>\n",
       "      <td>104.5</td>\n",
       "    </tr>\n",
       "    <tr>\n",
       "      <th>2</th>\n",
       "      <td>2</td>\n",
       "      <td>105</td>\n",
       "      <td>124</td>\n",
       "      <td>17</td>\n",
       "      <td>36</td>\n",
       "      <td>104.5</td>\n",
       "      <td>124.5</td>\n",
       "    </tr>\n",
       "    <tr>\n",
       "      <th>3</th>\n",
       "      <td>3</td>\n",
       "      <td>125</td>\n",
       "      <td>144</td>\n",
       "      <td>10</td>\n",
       "      <td>46</td>\n",
       "      <td>124.5</td>\n",
       "      <td>144.5</td>\n",
       "    </tr>\n",
       "    <tr>\n",
       "      <th>4</th>\n",
       "      <td>4</td>\n",
       "      <td>145</td>\n",
       "      <td>164</td>\n",
       "      <td>5</td>\n",
       "      <td>51</td>\n",
       "      <td>144.5</td>\n",
       "      <td>164.5</td>\n",
       "    </tr>\n",
       "    <tr>\n",
       "      <th>5</th>\n",
       "      <td>5</td>\n",
       "      <td>165</td>\n",
       "      <td>184</td>\n",
       "      <td>4</td>\n",
       "      <td>55</td>\n",
       "      <td>164.5</td>\n",
       "      <td>184.5</td>\n",
       "    </tr>\n",
       "    <tr>\n",
       "      <th>6</th>\n",
       "      <td>6</td>\n",
       "      <td>185</td>\n",
       "      <td>204</td>\n",
       "      <td>5</td>\n",
       "      <td>60</td>\n",
       "      <td>184.5</td>\n",
       "      <td>204.5</td>\n",
       "    </tr>\n",
       "  </tbody>\n",
       "</table>\n",
       "</div>"
      ],
      "text/plain": [
       "   Index  lower_class  upper_class  Frequency  CF  Lower class boundary  \\\n",
       "0      0           65           84          9   9                  64.5   \n",
       "1      1           85          104         10  19                  84.5   \n",
       "2      2          105          124         17  36                 104.5   \n",
       "3      3          125          144         10  46                 124.5   \n",
       "4      4          145          164          5  51                 144.5   \n",
       "5      5          165          184          4  55                 164.5   \n",
       "6      6          185          204          5  60                 184.5   \n",
       "\n",
       "   upper class boundary  \n",
       "0                  84.5  \n",
       "1                 104.5  \n",
       "2                 124.5  \n",
       "3                 144.5  \n",
       "4                 164.5  \n",
       "5                 184.5  \n",
       "6                 204.5  "
      ]
     },
     "execution_count": 21,
     "metadata": {},
     "output_type": "execute_result"
    }
   ],
   "source": [
    "df['Lower class boundary']=df['lower_class']-0.5\n",
    "df['upper class boundary']=df['upper_class']+0.5\n",
    "df"
   ]
  },
  {
   "cell_type": "code",
   "execution_count": null,
   "metadata": {
    "id": "6vqkZOwjSsaX"
   },
   "outputs": [],
   "source": [
    "def quartile(num):\n",
    "    Q1_freq=num * (np.sum(df['Frequency']))/4\n",
    "    refernce=df[df['CF']>Q1_freq]\n",
    "    refernce_index=refernce.iloc[0]['Index']\n",
    "    h=df.loc[refernce_index,'upper class boundary']-df.loc[refernce_index,'Lower class boundary']\n",
    "    l=df.loc[refernce_index,'Lower class boundary']\n",
    "    f=df.loc[refernce_index,'Frequency']\n",
    "    c=df.loc[refernce_index-1,'CF']\n",
    "    return (h,l,f,c)\n"
   ]
  },
  {
   "cell_type": "code",
   "execution_count": null,
   "metadata": {
    "id": "jG5pMbd-SsaX"
   },
   "outputs": [],
   "source": [
    "h,l,f,c=quartile(1)\n",
    "h1,l1,f1,c1=quartile(3)"
   ]
  },
  {
   "cell_type": "code",
   "execution_count": null,
   "metadata": {
    "id": "fDQIRoDPSsaX",
    "outputId": "c6bc8d60-8584-45f1-f526-cd0df21e623c"
   },
   "outputs": [
    {
     "data": {
      "text/plain": [
       "(20.0, 84.5, 10, 9)"
      ]
     },
     "execution_count": 47,
     "metadata": {},
     "output_type": "execute_result"
    }
   ],
   "source": [
    "h,l,f,c"
   ]
  },
  {
   "cell_type": "code",
   "execution_count": null,
   "metadata": {
    "id": "4TfH1sgYSsaY",
    "outputId": "9683a6c5-6505-46aa-dbce-79bfa125e202"
   },
   "outputs": [
    {
     "name": "stdout",
     "output_type": "stream",
     "text": [
      "Q1 is  96.5\n",
      "Q3 is  142.5\n"
     ]
    }
   ],
   "source": [
    "Q1=l+(h/f)*((1*np.sum(df['Frequency'])/4)-c)\n",
    "Q3=l1+(h1/f)*((3*np.sum(df['Frequency'])/4)-c1)\n",
    "print('Q1 is ',Q1)\n",
    "print('Q3 is ',Q3)"
   ]
  },
  {
   "cell_type": "code",
   "execution_count": null,
   "metadata": {
    "id": "dQgsolJGSsaY",
    "outputId": "e9c41cc6-8e85-453d-ee10-51a313b5ee40"
   },
   "outputs": [
    {
     "name": "stdout",
     "output_type": "stream",
     "text": [
      "IQR is 46.0\n"
     ]
    }
   ],
   "source": [
    "IQR=Q3-Q1\n",
    "print('IQR is',IQR)"
   ]
  },
  {
   "cell_type": "markdown",
   "metadata": {
    "id": "S5P5NdG4SsaY"
   },
   "source": [
    "## **DECILES**\n",
    "Divide the data into ten equal parts. The 5th Decile is Median.\n",
    "### **Ungrouped Data**\n",
    "### **<center> Pi= i * ((n+1)/10)th Term  where i = 1, 2, 3</center>**"
   ]
  },
  {
   "cell_type": "code",
   "execution_count": null,
   "metadata": {
    "id": "oRocAzF_SsaY",
    "outputId": "c4880585-c33d-44e7-a7a1-25d897819bae"
   },
   "outputs": [
    {
     "name": "stdout",
     "output_type": "stream",
     "text": [
      "[23, 27, 32, 36, 36, 37, 39, 41, 43, 45, 46, 48, 54]\n",
      "Decile 1 is 23.56\n",
      "Decile 2 is 28.4\n",
      "Decile 3 is 36.0\n",
      "Decile 4 is 36.56\n",
      "Decile 5 is 40.4\n",
      "Decile 6 is 42.68\n",
      "Decile 7 is 44.96\n",
      "Decile 8 is 46.24\n",
      "Decile 9 is 49.56\n",
      "Decile 10 is 50.4\n"
     ]
    }
   ],
   "source": [
    "list=[45,32,37,46,39,36,41,48,36,43,54,23,27]\n",
    "list.sort()\n",
    "print(list)\n",
    "for i in range(1,11):\n",
    "    p = i * ((len(list)+1))/10\n",
    "    term2= p%10\n",
    "    term1 = int(p)\n",
    "    if term1>len(list):\n",
    "        term1=len(list)-1\n",
    "    decile=list[term1-1]+(term2/10)*(list[term1]-list[term1-1])\n",
    "    print('Decile',i,'is',round(decile,2))\n"
   ]
  },
  {
   "cell_type": "code",
   "execution_count": null,
   "metadata": {
    "id": "AjE_KCZaSsaZ",
    "outputId": "662f1187-8c5c-45ba-f851-a6d8882f875d"
   },
   "outputs": [
    {
     "name": "stdout",
     "output_type": "stream",
     "text": [
      "Deciles using numpy is [23.  28.  33.6 36.  36.8 39.  41.4 43.8 45.6 47.6]\n"
     ]
    }
   ],
   "source": [
    "deciles=np.quantile(list, np.arange(0, 1, 0.1))\n",
    "print('Deciles using numpy is',deciles)"
   ]
  },
  {
   "cell_type": "markdown",
   "metadata": {
    "id": "iz5E8WZsSsaZ"
   },
   "source": [
    "Both answers have a slight difference due to the interpolation ethod being used. NumPy's quantile function uses a more sophisticated method called \"linear interpolation with midpoint averaging\". My hard code uses the simple linear interpolation"
   ]
  },
  {
   "cell_type": "markdown",
   "metadata": {
    "id": "6fM5GF6tSsaZ"
   },
   "source": [
    "### **Grouped Data**\n",
    "#### **Formula**\n",
    "### **<center>Di= l + (h/f)*((in/10)-c)</center>**"
   ]
  },
  {
   "cell_type": "markdown",
   "metadata": {
    "id": "S0eKRQgqSsaZ"
   },
   "source": [
    "Find the 8th Decile of the given data"
   ]
  },
  {
   "cell_type": "code",
   "execution_count": null,
   "metadata": {
    "id": "Fq8QOIkXSsaZ",
    "outputId": "92a6693e-f83d-47c8-bca4-a935423f2775"
   },
   "outputs": [
    {
     "data": {
      "text/html": [
       "<div>\n",
       "<style scoped>\n",
       "    .dataframe tbody tr th:only-of-type {\n",
       "        vertical-align: middle;\n",
       "    }\n",
       "\n",
       "    .dataframe tbody tr th {\n",
       "        vertical-align: top;\n",
       "    }\n",
       "\n",
       "    .dataframe thead th {\n",
       "        text-align: right;\n",
       "    }\n",
       "</style>\n",
       "<table border=\"1\" class=\"dataframe\">\n",
       "  <thead>\n",
       "    <tr style=\"text-align: right;\">\n",
       "      <th></th>\n",
       "      <th>Index</th>\n",
       "      <th>lower_class</th>\n",
       "      <th>upper_class</th>\n",
       "      <th>Frequency</th>\n",
       "      <th>CF</th>\n",
       "      <th>Lower class boundary</th>\n",
       "      <th>upper class boundary</th>\n",
       "    </tr>\n",
       "  </thead>\n",
       "  <tbody>\n",
       "    <tr>\n",
       "      <th>0</th>\n",
       "      <td>0</td>\n",
       "      <td>65</td>\n",
       "      <td>84</td>\n",
       "      <td>9</td>\n",
       "      <td>9</td>\n",
       "      <td>64.5</td>\n",
       "      <td>84.5</td>\n",
       "    </tr>\n",
       "    <tr>\n",
       "      <th>1</th>\n",
       "      <td>1</td>\n",
       "      <td>85</td>\n",
       "      <td>104</td>\n",
       "      <td>10</td>\n",
       "      <td>19</td>\n",
       "      <td>84.5</td>\n",
       "      <td>104.5</td>\n",
       "    </tr>\n",
       "    <tr>\n",
       "      <th>2</th>\n",
       "      <td>2</td>\n",
       "      <td>105</td>\n",
       "      <td>124</td>\n",
       "      <td>17</td>\n",
       "      <td>36</td>\n",
       "      <td>104.5</td>\n",
       "      <td>124.5</td>\n",
       "    </tr>\n",
       "    <tr>\n",
       "      <th>3</th>\n",
       "      <td>3</td>\n",
       "      <td>125</td>\n",
       "      <td>144</td>\n",
       "      <td>10</td>\n",
       "      <td>46</td>\n",
       "      <td>124.5</td>\n",
       "      <td>144.5</td>\n",
       "    </tr>\n",
       "    <tr>\n",
       "      <th>4</th>\n",
       "      <td>4</td>\n",
       "      <td>145</td>\n",
       "      <td>164</td>\n",
       "      <td>5</td>\n",
       "      <td>51</td>\n",
       "      <td>144.5</td>\n",
       "      <td>164.5</td>\n",
       "    </tr>\n",
       "    <tr>\n",
       "      <th>5</th>\n",
       "      <td>5</td>\n",
       "      <td>165</td>\n",
       "      <td>184</td>\n",
       "      <td>4</td>\n",
       "      <td>55</td>\n",
       "      <td>164.5</td>\n",
       "      <td>184.5</td>\n",
       "    </tr>\n",
       "    <tr>\n",
       "      <th>6</th>\n",
       "      <td>6</td>\n",
       "      <td>185</td>\n",
       "      <td>204</td>\n",
       "      <td>5</td>\n",
       "      <td>60</td>\n",
       "      <td>184.5</td>\n",
       "      <td>204.5</td>\n",
       "    </tr>\n",
       "  </tbody>\n",
       "</table>\n",
       "</div>"
      ],
      "text/plain": [
       "   Index  lower_class  upper_class  Frequency  CF  Lower class boundary  \\\n",
       "0      0           65           84          9   9                  64.5   \n",
       "1      1           85          104         10  19                  84.5   \n",
       "2      2          105          124         17  36                 104.5   \n",
       "3      3          125          144         10  46                 124.5   \n",
       "4      4          145          164          5  51                 144.5   \n",
       "5      5          165          184          4  55                 164.5   \n",
       "6      6          185          204          5  60                 184.5   \n",
       "\n",
       "   upper class boundary  \n",
       "0                  84.5  \n",
       "1                 104.5  \n",
       "2                 124.5  \n",
       "3                 144.5  \n",
       "4                 164.5  \n",
       "5                 184.5  \n",
       "6                 204.5  "
      ]
     },
     "execution_count": 91,
     "metadata": {},
     "output_type": "execute_result"
    }
   ],
   "source": [
    "df"
   ]
  },
  {
   "cell_type": "code",
   "execution_count": null,
   "metadata": {
    "id": "F9pLLMORSsaa"
   },
   "outputs": [],
   "source": [
    "ref_class = 8 *( np.sum(df['Frequency'])/10)\n",
    "ref_class_index=df[df['CF']>ref_class]\n",
    "refernce_index=ref_class_index.iloc[0]['Index']\n",
    "\n",
    "f=df.loc[refernce_index,'Frequency']\n",
    "c=df.loc[refernce_index-1,'CF']\n",
    "l=df.loc[refernce_index,'Lower class boundary']\n",
    "h=df.loc[refernce_index,'upper class boundary']-df.loc[refernce_index,'Lower class boundary']"
   ]
  },
  {
   "cell_type": "code",
   "execution_count": null,
   "metadata": {
    "id": "1gBRN-dGSsaa",
    "outputId": "c0b78e63-4c43-490f-caff-33e82ea1fde2"
   },
   "outputs": [
    {
     "data": {
      "text/plain": [
       "(5, 46, 144.5, 20.0)"
      ]
     },
     "execution_count": 101,
     "metadata": {},
     "output_type": "execute_result"
    }
   ],
   "source": [
    "(f,c,l,h)"
   ]
  },
  {
   "cell_type": "code",
   "execution_count": null,
   "metadata": {
    "id": "IGhE1NHwSsaa",
    "outputId": "c0260a55-cd54-433d-89e8-4607520f22cd"
   },
   "outputs": [
    {
     "name": "stdout",
     "output_type": "stream",
     "text": [
      "8th Decile is  152.5\n"
     ]
    }
   ],
   "source": [
    "ref_class = 8 * (np.sum(df['Frequency']) / 10)\n",
    "D8_Decile =  l + (ref_class-c)/f * h\n",
    "print('8th Decile is ',D8_Decile)"
   ]
  },
  {
   "cell_type": "markdown",
   "metadata": {
    "id": "aGsWeiRMSsaa"
   },
   "source": [
    "## **Percentile**"
   ]
  },
  {
   "cell_type": "markdown",
   "metadata": {
    "id": "srCgP9XxSsaa"
   },
   "source": [
    "### **Ungrouped Data**"
   ]
  },
  {
   "cell_type": "code",
   "execution_count": null,
   "metadata": {
    "id": "0qRmT1OgSsaa",
    "outputId": "1c1c6338-7e1e-4e7c-a0cf-58a4b6afaae8"
   },
   "outputs": [
    {
     "name": "stdout",
     "output_type": "stream",
     "text": [
      "75th percentile using formula is  41.0\n",
      "75th percentile using numpy is  37.0\n"
     ]
    }
   ],
   "source": [
    "list=[21,32,23,35,54,32,43,32,43,12,34,23]\n",
    "list.sort()\n",
    "Pi = 75 * (len(list)+1)/100\n",
    "term1=int(Pi)\n",
    "term2=Pi -term1\n",
    "\n",
    "per_75 = list[term1-1] + term2 * (list[term1]- list[term1-1])\n",
    "\n",
    "np_percent=np.percentile(list,75)\n",
    "\n",
    "print('75th percentile using formula is ',per_75)\n",
    "print('75th percentile using numpy is ',np_percent)"
   ]
  },
  {
   "cell_type": "markdown",
   "metadata": {
    "id": "Jzgap2NVSsab"
   },
   "source": [
    "### **Grouped Data**"
   ]
  },
  {
   "cell_type": "code",
   "execution_count": null,
   "metadata": {
    "id": "yFgfRBQUSsab",
    "outputId": "a89b12ab-0dbe-400e-de6f-d427814f85d0"
   },
   "outputs": [
    {
     "data": {
      "text/html": [
       "<div>\n",
       "<style scoped>\n",
       "    .dataframe tbody tr th:only-of-type {\n",
       "        vertical-align: middle;\n",
       "    }\n",
       "\n",
       "    .dataframe tbody tr th {\n",
       "        vertical-align: top;\n",
       "    }\n",
       "\n",
       "    .dataframe thead th {\n",
       "        text-align: right;\n",
       "    }\n",
       "</style>\n",
       "<table border=\"1\" class=\"dataframe\">\n",
       "  <thead>\n",
       "    <tr style=\"text-align: right;\">\n",
       "      <th></th>\n",
       "      <th>Index</th>\n",
       "      <th>lower_class</th>\n",
       "      <th>upper_class</th>\n",
       "      <th>Frequency</th>\n",
       "      <th>CF</th>\n",
       "      <th>Lower class boundary</th>\n",
       "      <th>upper class boundary</th>\n",
       "    </tr>\n",
       "  </thead>\n",
       "  <tbody>\n",
       "    <tr>\n",
       "      <th>0</th>\n",
       "      <td>0</td>\n",
       "      <td>65</td>\n",
       "      <td>84</td>\n",
       "      <td>9</td>\n",
       "      <td>9</td>\n",
       "      <td>64.5</td>\n",
       "      <td>84.5</td>\n",
       "    </tr>\n",
       "    <tr>\n",
       "      <th>1</th>\n",
       "      <td>1</td>\n",
       "      <td>85</td>\n",
       "      <td>104</td>\n",
       "      <td>10</td>\n",
       "      <td>19</td>\n",
       "      <td>84.5</td>\n",
       "      <td>104.5</td>\n",
       "    </tr>\n",
       "    <tr>\n",
       "      <th>2</th>\n",
       "      <td>2</td>\n",
       "      <td>105</td>\n",
       "      <td>124</td>\n",
       "      <td>17</td>\n",
       "      <td>36</td>\n",
       "      <td>104.5</td>\n",
       "      <td>124.5</td>\n",
       "    </tr>\n",
       "    <tr>\n",
       "      <th>3</th>\n",
       "      <td>3</td>\n",
       "      <td>125</td>\n",
       "      <td>144</td>\n",
       "      <td>10</td>\n",
       "      <td>46</td>\n",
       "      <td>124.5</td>\n",
       "      <td>144.5</td>\n",
       "    </tr>\n",
       "    <tr>\n",
       "      <th>4</th>\n",
       "      <td>4</td>\n",
       "      <td>145</td>\n",
       "      <td>164</td>\n",
       "      <td>5</td>\n",
       "      <td>51</td>\n",
       "      <td>144.5</td>\n",
       "      <td>164.5</td>\n",
       "    </tr>\n",
       "    <tr>\n",
       "      <th>5</th>\n",
       "      <td>5</td>\n",
       "      <td>165</td>\n",
       "      <td>184</td>\n",
       "      <td>4</td>\n",
       "      <td>55</td>\n",
       "      <td>164.5</td>\n",
       "      <td>184.5</td>\n",
       "    </tr>\n",
       "    <tr>\n",
       "      <th>6</th>\n",
       "      <td>6</td>\n",
       "      <td>185</td>\n",
       "      <td>204</td>\n",
       "      <td>5</td>\n",
       "      <td>60</td>\n",
       "      <td>184.5</td>\n",
       "      <td>204.5</td>\n",
       "    </tr>\n",
       "  </tbody>\n",
       "</table>\n",
       "</div>"
      ],
      "text/plain": [
       "   Index  lower_class  upper_class  Frequency  CF  Lower class boundary  \\\n",
       "0      0           65           84          9   9                  64.5   \n",
       "1      1           85          104         10  19                  84.5   \n",
       "2      2          105          124         17  36                 104.5   \n",
       "3      3          125          144         10  46                 124.5   \n",
       "4      4          145          164          5  51                 144.5   \n",
       "5      5          165          184          4  55                 164.5   \n",
       "6      6          185          204          5  60                 184.5   \n",
       "\n",
       "   upper class boundary  \n",
       "0                  84.5  \n",
       "1                 104.5  \n",
       "2                 124.5  \n",
       "3                 144.5  \n",
       "4                 164.5  \n",
       "5                 184.5  \n",
       "6                 204.5  "
      ]
     },
     "execution_count": 131,
     "metadata": {},
     "output_type": "execute_result"
    }
   ],
   "source": [
    "df"
   ]
  },
  {
   "cell_type": "code",
   "execution_count": null,
   "metadata": {
    "id": "IkYWHDclSsab",
    "outputId": "4709e087-e045-4b3d-feed-70f90597cd62"
   },
   "outputs": [
    {
     "name": "stdout",
     "output_type": "stream",
     "text": [
      "75th percentile is  142.5\n"
     ]
    }
   ],
   "source": [
    "ref_class = 75 *( np.sum(df['Frequency'])/100)\n",
    "ref_class_index=df[df['CF']>ref_class]\n",
    "refernce_index=ref_class_index.iloc[0]['Index']\n",
    "\n",
    "f=df.loc[refernce_index,'Frequency']\n",
    "c=df.loc[refernce_index-1,'CF']\n",
    "l=df.loc[refernce_index,'Lower class boundary']\n",
    "h=df.loc[refernce_index,'upper class boundary']-df.loc[refernce_index,'Lower class boundary']\n",
    "\n",
    "ref_class = 75 * (np.sum(df['Frequency']) / 100)\n",
    "D8_percentile =  l + (ref_class-c)/f * h\n",
    "print('75th percentile is ',D8_percentile)"
   ]
  },
  {
   "cell_type": "markdown",
   "metadata": {
    "id": "JBJmIUZoSsab"
   },
   "source": [
    "# **7. Measures of Dispersion**"
   ]
  },
  {
   "cell_type": "markdown",
   "metadata": {
    "id": "dcgf6JreSsab"
   },
   "source": [
    "## **Range**\n",
    "The range is defined as the difference between the two extreme\n",
    "values of a data-set\n",
    "\n",
    "### **Ungrouped Data**"
   ]
  },
  {
   "cell_type": "code",
   "execution_count": null,
   "metadata": {
    "id": "Xi7qzGpjSsab",
    "outputId": "c1ec6387-b80e-4aea-f074-42ce91df1ca2"
   },
   "outputs": [
    {
     "name": "stdout",
     "output_type": "stream",
     "text": [
      "Range is 42\n"
     ]
    }
   ],
   "source": [
    "list=[21,32,23,35,54,32,43,32,43,12,34,23]\n",
    "range=max(list) - min(list)\n",
    "print('Range is',range)"
   ]
  },
  {
   "cell_type": "markdown",
   "metadata": {
    "id": "rVN6U7YlSsac"
   },
   "source": [
    "### **Grouped Data**"
   ]
  },
  {
   "cell_type": "code",
   "execution_count": null,
   "metadata": {
    "id": "UxWtTyB_Ssac",
    "outputId": "a79b13c2-ff19-413e-d7dc-3285032d0542"
   },
   "outputs": [
    {
     "data": {
      "text/html": [
       "<div>\n",
       "<style scoped>\n",
       "    .dataframe tbody tr th:only-of-type {\n",
       "        vertical-align: middle;\n",
       "    }\n",
       "\n",
       "    .dataframe tbody tr th {\n",
       "        vertical-align: top;\n",
       "    }\n",
       "\n",
       "    .dataframe thead th {\n",
       "        text-align: right;\n",
       "    }\n",
       "</style>\n",
       "<table border=\"1\" class=\"dataframe\">\n",
       "  <thead>\n",
       "    <tr style=\"text-align: right;\">\n",
       "      <th></th>\n",
       "      <th>Index</th>\n",
       "      <th>lower_class</th>\n",
       "      <th>upper_class</th>\n",
       "      <th>Frequency</th>\n",
       "      <th>CF</th>\n",
       "      <th>Lower class boundary</th>\n",
       "      <th>upper class boundary</th>\n",
       "    </tr>\n",
       "  </thead>\n",
       "  <tbody>\n",
       "    <tr>\n",
       "      <th>0</th>\n",
       "      <td>0</td>\n",
       "      <td>65</td>\n",
       "      <td>84</td>\n",
       "      <td>9</td>\n",
       "      <td>9</td>\n",
       "      <td>64.5</td>\n",
       "      <td>84.5</td>\n",
       "    </tr>\n",
       "    <tr>\n",
       "      <th>1</th>\n",
       "      <td>1</td>\n",
       "      <td>85</td>\n",
       "      <td>104</td>\n",
       "      <td>10</td>\n",
       "      <td>19</td>\n",
       "      <td>84.5</td>\n",
       "      <td>104.5</td>\n",
       "    </tr>\n",
       "    <tr>\n",
       "      <th>2</th>\n",
       "      <td>2</td>\n",
       "      <td>105</td>\n",
       "      <td>124</td>\n",
       "      <td>17</td>\n",
       "      <td>36</td>\n",
       "      <td>104.5</td>\n",
       "      <td>124.5</td>\n",
       "    </tr>\n",
       "    <tr>\n",
       "      <th>3</th>\n",
       "      <td>3</td>\n",
       "      <td>125</td>\n",
       "      <td>144</td>\n",
       "      <td>10</td>\n",
       "      <td>46</td>\n",
       "      <td>124.5</td>\n",
       "      <td>144.5</td>\n",
       "    </tr>\n",
       "    <tr>\n",
       "      <th>4</th>\n",
       "      <td>4</td>\n",
       "      <td>145</td>\n",
       "      <td>164</td>\n",
       "      <td>5</td>\n",
       "      <td>51</td>\n",
       "      <td>144.5</td>\n",
       "      <td>164.5</td>\n",
       "    </tr>\n",
       "    <tr>\n",
       "      <th>5</th>\n",
       "      <td>5</td>\n",
       "      <td>165</td>\n",
       "      <td>184</td>\n",
       "      <td>4</td>\n",
       "      <td>55</td>\n",
       "      <td>164.5</td>\n",
       "      <td>184.5</td>\n",
       "    </tr>\n",
       "    <tr>\n",
       "      <th>6</th>\n",
       "      <td>6</td>\n",
       "      <td>185</td>\n",
       "      <td>204</td>\n",
       "      <td>5</td>\n",
       "      <td>60</td>\n",
       "      <td>184.5</td>\n",
       "      <td>204.5</td>\n",
       "    </tr>\n",
       "  </tbody>\n",
       "</table>\n",
       "</div>"
      ],
      "text/plain": [
       "   Index  lower_class  upper_class  Frequency  CF  Lower class boundary  \\\n",
       "0      0           65           84          9   9                  64.5   \n",
       "1      1           85          104         10  19                  84.5   \n",
       "2      2          105          124         17  36                 104.5   \n",
       "3      3          125          144         10  46                 124.5   \n",
       "4      4          145          164          5  51                 144.5   \n",
       "5      5          165          184          4  55                 164.5   \n",
       "6      6          185          204          5  60                 184.5   \n",
       "\n",
       "   upper class boundary  \n",
       "0                  84.5  \n",
       "1                 104.5  \n",
       "2                 124.5  \n",
       "3                 144.5  \n",
       "4                 164.5  \n",
       "5                 184.5  \n",
       "6                 204.5  "
      ]
     },
     "execution_count": 16,
     "metadata": {},
     "output_type": "execute_result"
    }
   ],
   "source": [
    "df=pd.DataFrame(\n",
    "    {\n",
    "     'lower_class': [65,85,105,125,145,165,185],\n",
    "        'upper_class':[84,104,124,144,164,184,204],\n",
    "            'Frequency':[9,10,17,10,5,4,5],\n",
    "            'CF':[9,19,36,46,51,55,60]\n",
    "    }\n",
    ")\n",
    "df.insert(0, 'Index', df.index)\n",
    "df['Lower class boundary']=df['lower_class']-0.5\n",
    "df['upper class boundary']=df['upper_class']+0.5\n",
    "df"
   ]
  },
  {
   "cell_type": "code",
   "execution_count": null,
   "metadata": {
    "id": "kfDHu048Ssac",
    "outputId": "9317b91f-4f37-4db3-d0b5-7b3d1dc1d6d9"
   },
   "outputs": [
    {
     "name": "stdout",
     "output_type": "stream",
     "text": [
      "Range is 140.0\n"
     ]
    }
   ],
   "source": [
    "range= df.loc[6,'upper class boundary']-df.loc[0,'Lower class boundary']\n",
    "print('Range is',range)"
   ]
  },
  {
   "cell_type": "markdown",
   "metadata": {
    "id": "m0aHiyFASsac"
   },
   "source": [
    "## **Coefficient of Range**"
   ]
  },
  {
   "cell_type": "code",
   "execution_count": null,
   "metadata": {
    "id": "P0AKPII_Ssac",
    "outputId": "bc08e59b-71b7-41d4-9d71-a66417aa1e3c"
   },
   "outputs": [
    {
     "name": "stdout",
     "output_type": "stream",
     "text": [
      "Coefficient of Range 52.04 %\n"
     ]
    }
   ],
   "source": [
    "max_value = df.loc[6,'upper class boundary']\n",
    "min_value = df.loc[0,'Lower class boundary']\n",
    "coef_range =(max_value - min_value) /  (max_value + min_value)\n",
    "coef_range=round(coef_range*100,2)\n",
    "print('Coefficient of Range',coef_range,'%')"
   ]
  },
  {
   "cell_type": "markdown",
   "metadata": {
    "id": "fHBPEY4kSsad"
   },
   "source": [
    "## **Quartile Deviation(QD)**\n",
    " The difference between third and first quartiles is called\n",
    "Interquartile Range <br>\n",
    "### **<center>Quartile Deviation = (Q3 - Q1) / 2</center>**\n",
    " Half of the Interquartile Range is called Quartile Deviation also\n",
    "known as Semi Interquartile Range"
   ]
  },
  {
   "cell_type": "code",
   "execution_count": null,
   "metadata": {
    "id": "bi5bFp6kSsad"
   },
   "outputs": [],
   "source": [
    "h,l,f,c=quartile(1)\n",
    "h3,l3,f3,c3=quartile(3)\n"
   ]
  },
  {
   "cell_type": "code",
   "execution_count": null,
   "metadata": {
    "id": "geuVEhLiSsad",
    "outputId": "cb5f6825-f468-4d0d-fcfc-7167c1e89c0d"
   },
   "outputs": [
    {
     "data": {
      "text/plain": [
       "(20.0, 84.5, 10, 9)"
      ]
     },
     "execution_count": 32,
     "metadata": {},
     "output_type": "execute_result"
    }
   ],
   "source": [
    "(h,l,f,c)"
   ]
  },
  {
   "cell_type": "code",
   "execution_count": null,
   "metadata": {
    "id": "fmSoEDTpSsad",
    "outputId": "b9b3fa2d-3a43-4653-f61f-5b37c92dd2f8"
   },
   "outputs": [
    {
     "data": {
      "text/plain": [
       "(20.0, 124.5, 10, 36)"
      ]
     },
     "execution_count": 30,
     "metadata": {},
     "output_type": "execute_result"
    }
   ],
   "source": [
    "(h3,l3,f3,c3)"
   ]
  },
  {
   "cell_type": "code",
   "execution_count": null,
   "metadata": {
    "id": "9m_snvlWSsad",
    "outputId": "114c9914-4b07-492b-982f-2bb42d533c69"
   },
   "outputs": [
    {
     "name": "stdout",
     "output_type": "stream",
     "text": [
      "Quartile Deviation 23.0\n"
     ]
    }
   ],
   "source": [
    "Q1 = l + (h / f) * ((np.sum(df['Frequency'])/4) - c)\n",
    "Q3 = l3 + (h3 / f3) * (3*(np.sum(df['Frequency'])/4) - c3)\n",
    "quar_Dev=(Q3-Q1)/2\n",
    "print('Quartile Deviation',quar_Dev)"
   ]
  },
  {
   "cell_type": "code",
   "execution_count": null,
   "metadata": {
    "id": "I8tw8UyZSsad",
    "outputId": "2d1783d6-d93f-487c-9467-0f6d8fc94a13"
   },
   "outputs": [
    {
     "data": {
      "text/plain": [
       "(82.5, 96.5)"
      ]
     },
     "execution_count": 34,
     "metadata": {},
     "output_type": "execute_result"
    }
   ],
   "source": [
    "(Q3,Q1)"
   ]
  },
  {
   "cell_type": "markdown",
   "metadata": {
    "id": "6Tx9L-l8Ssae"
   },
   "source": [
    "## **Coefficient of  Quartile Deviation(QD)**\n",
    "\n",
    "### **<center>Coeficient of Quartile Deviation = (Q3 - Q1) / (Q3 + Q1)</center>**"
   ]
  },
  {
   "cell_type": "code",
   "execution_count": null,
   "metadata": {
    "id": "BkSECJZLSsae",
    "outputId": "3fc4ec88-7cfe-4dbd-9ae0-5260f7ea47f3"
   },
   "outputs": [
    {
     "name": "stdout",
     "output_type": "stream",
     "text": [
      "Coefficient of Quartile Deviation is 19.0 %\n"
     ]
    }
   ],
   "source": [
    "Coef_QD= round(((Q3 - Q1) / (Q3 +Q1)),2 ) *100\n",
    "print('Coefficient of Quartile Deviation is',Coef_QD,'%')"
   ]
  },
  {
   "cell_type": "markdown",
   "metadata": {
    "id": "dF0CbyYeSsae"
   },
   "source": [
    "## **Mean Deviation**\n",
    "It is the average distance of all values of data set from Mean of\n",
    "that same data set"
   ]
  },
  {
   "cell_type": "markdown",
   "metadata": {
    "id": "MJX7rZb0Ssae"
   },
   "source": [
    "### **Ungrouped Data**\n",
    "Mean Deviation = M. D = ∑ |(x − x̄)| / n"
   ]
  },
  {
   "cell_type": "code",
   "execution_count": null,
   "metadata": {
    "id": "yBPa3TYYSsaf",
    "outputId": "36a9deee-77db-49a3-a880-4c825717e39b"
   },
   "outputs": [
    {
     "name": "stdout",
     "output_type": "stream",
     "text": [
      "Mean: 40.0\n",
      "Mean Deviation: 4.444444444444445\n"
     ]
    }
   ],
   "source": [
    "listt = [45, 32, 37, 46, 39, 36, 41, 48, 36]\n",
    "\n",
    "mean_val = np.mean(listt)\n",
    "print(\"Mean:\", mean_val)\n",
    "\n",
    "mad_sum = 0.0\n",
    "\n",
    "for value in listt:\n",
    "    mad_sum += abs(value - mean_val)\n",
    "mean_dev = mad_sum / len(listt)\n",
    "print(\"Mean Deviation:\", mean_dev)"
   ]
  },
  {
   "cell_type": "markdown",
   "metadata": {
    "id": "DVGveo-SSsaf"
   },
   "source": [
    "### **Grouped Data**\n",
    "\n",
    " Mean for Grouped data x =∑ fx /n <br>\n",
    " Find difference of Mean from class marks |x − x̄| <br>\n",
    " Product of frequency with difference f x − x̄<br>\n",
    " Sum of product f x − x̄<br>"
   ]
  },
  {
   "cell_type": "code",
   "execution_count": null,
   "metadata": {
    "id": "9_aKc7_3Ssaf",
    "outputId": "b8e6af10-7dfd-465c-8338-33b2da3cc290"
   },
   "outputs": [
    {
     "data": {
      "text/html": [
       "<div>\n",
       "<style scoped>\n",
       "    .dataframe tbody tr th:only-of-type {\n",
       "        vertical-align: middle;\n",
       "    }\n",
       "\n",
       "    .dataframe tbody tr th {\n",
       "        vertical-align: top;\n",
       "    }\n",
       "\n",
       "    .dataframe thead th {\n",
       "        text-align: right;\n",
       "    }\n",
       "</style>\n",
       "<table border=\"1\" class=\"dataframe\">\n",
       "  <thead>\n",
       "    <tr style=\"text-align: right;\">\n",
       "      <th></th>\n",
       "      <th>lower class</th>\n",
       "      <th>upper class</th>\n",
       "      <th>classs_mark</th>\n",
       "      <th>frequency</th>\n",
       "    </tr>\n",
       "  </thead>\n",
       "  <tbody>\n",
       "    <tr>\n",
       "      <th>0</th>\n",
       "      <td>1</td>\n",
       "      <td>5</td>\n",
       "      <td>3</td>\n",
       "      <td>10</td>\n",
       "    </tr>\n",
       "    <tr>\n",
       "      <th>1</th>\n",
       "      <td>6</td>\n",
       "      <td>10</td>\n",
       "      <td>8</td>\n",
       "      <td>20</td>\n",
       "    </tr>\n",
       "    <tr>\n",
       "      <th>2</th>\n",
       "      <td>11</td>\n",
       "      <td>15</td>\n",
       "      <td>13</td>\n",
       "      <td>30</td>\n",
       "    </tr>\n",
       "    <tr>\n",
       "      <th>3</th>\n",
       "      <td>16</td>\n",
       "      <td>20</td>\n",
       "      <td>18</td>\n",
       "      <td>20</td>\n",
       "    </tr>\n",
       "    <tr>\n",
       "      <th>4</th>\n",
       "      <td>21</td>\n",
       "      <td>25</td>\n",
       "      <td>23</td>\n",
       "      <td>10</td>\n",
       "    </tr>\n",
       "  </tbody>\n",
       "</table>\n",
       "</div>"
      ],
      "text/plain": [
       "   lower class  upper class  classs_mark  frequency\n",
       "0            1            5            3         10\n",
       "1            6           10            8         20\n",
       "2           11           15           13         30\n",
       "3           16           20           18         20\n",
       "4           21           25           23         10"
      ]
     },
     "execution_count": 66,
     "metadata": {},
     "output_type": "execute_result"
    }
   ],
   "source": [
    "df=pd.DataFrame(\n",
    "    {\n",
    "        'lower class':[1,6,11,16,21],\n",
    "        'upper class':[5,10,15,20,25],\n",
    "        'classs_mark':[3,8,13,18,23],\n",
    "        'frequency':[10,20,30,20,10]\n",
    "    }\n",
    ")\n",
    "df"
   ]
  },
  {
   "cell_type": "code",
   "execution_count": null,
   "metadata": {
    "id": "cmu_03KLSsag",
    "outputId": "609080b9-de68-43ba-8186-c4934dc2c2fe"
   },
   "outputs": [
    {
     "name": "stdout",
     "output_type": "stream",
     "text": [
      "Mean deviation is  4.444444444444445\n",
      "Coefficient of mean deviation is  34.18803418803419 %\n"
     ]
    }
   ],
   "source": [
    "df['fx']=df['classs_mark']*df['frequency']\n",
    "mean_of_data=np.sum(df['fx']) / np.sum(df['frequency'])\n",
    "df['|x-mean|']=df['classs_mark']-mean_of_data\n",
    "df['f|x-mean|']=np.abs(df['|x-mean|']*df['frequency'])\n",
    "mean_devation=np.sum(df['f|x-mean|'])/np.sum(df['frequency'])\n",
    "print('Mean deviation is ',mean_devation)\n",
    "coef_dev=(mean_devation/mean_of_data)*100\n",
    "print(\"Coefficient of mean deviation is \",coef_dev,'%')\n"
   ]
  },
  {
   "cell_type": "markdown",
   "metadata": {
    "id": "JZq5aW5aSsag"
   },
   "source": [
    "## **VARIANCE**\n",
    "### Ungrouped Data\n",
    "#### Formula :             N = Σ  Σ(x-x)^2 / n"
   ]
  },
  {
   "cell_type": "code",
   "execution_count": 14,
   "metadata": {},
   "outputs": [
    {
     "name": "stdout",
     "output_type": "stream",
     "text": [
      "Variance using formula is 6.618181818181817\n",
      "Variance using numpy is 6.016528925619834\n"
     ]
    }
   ],
   "source": [
    "lis=[1,4,2,5,7,4,6,8,9,4,2]\n",
    "variance_ungrouped= (np.sum(np.power(lis - np.mean(lis), 2))) / (len(lis) - 1)\n",
    "print('Variance using formula is',variance_ungrouped)\n",
    "print('Variance using numpy is',np.var(lis))"
   ]
  },
  {
   "cell_type": "markdown",
   "metadata": {},
   "source": [
    "### **Grouped Data**\n",
    "#### Formula: Variance = (Σf(x)^2 / Σf ) - (Σf(x) / Σf )^2"
   ]
  },
  {
   "cell_type": "code",
   "execution_count": 8,
   "metadata": {},
   "outputs": [
    {
     "data": {
      "text/html": [
       "<div>\n",
       "<style scoped>\n",
       "    .dataframe tbody tr th:only-of-type {\n",
       "        vertical-align: middle;\n",
       "    }\n",
       "\n",
       "    .dataframe tbody tr th {\n",
       "        vertical-align: top;\n",
       "    }\n",
       "\n",
       "    .dataframe thead th {\n",
       "        text-align: right;\n",
       "    }\n",
       "</style>\n",
       "<table border=\"1\" class=\"dataframe\">\n",
       "  <thead>\n",
       "    <tr style=\"text-align: right;\">\n",
       "      <th></th>\n",
       "      <th>lower</th>\n",
       "      <th>upper</th>\n",
       "      <th>no. of bulbs</th>\n",
       "    </tr>\n",
       "  </thead>\n",
       "  <tbody>\n",
       "    <tr>\n",
       "      <th>0</th>\n",
       "      <td>0</td>\n",
       "      <td>5</td>\n",
       "      <td>4</td>\n",
       "    </tr>\n",
       "    <tr>\n",
       "      <th>1</th>\n",
       "      <td>5</td>\n",
       "      <td>10</td>\n",
       "      <td>9</td>\n",
       "    </tr>\n",
       "    <tr>\n",
       "      <th>2</th>\n",
       "      <td>10</td>\n",
       "      <td>20</td>\n",
       "      <td>38</td>\n",
       "    </tr>\n",
       "    <tr>\n",
       "      <th>3</th>\n",
       "      <td>20</td>\n",
       "      <td>40</td>\n",
       "      <td>33</td>\n",
       "    </tr>\n",
       "    <tr>\n",
       "      <th>4</th>\n",
       "      <td>40</td>\n",
       "      <td>60</td>\n",
       "      <td>16</td>\n",
       "    </tr>\n",
       "  </tbody>\n",
       "</table>\n",
       "</div>"
      ],
      "text/plain": [
       "   lower  upper  no. of bulbs\n",
       "0      0      5             4\n",
       "1      5     10             9\n",
       "2     10     20            38\n",
       "3     20     40            33\n",
       "4     40     60            16"
      ]
     },
     "execution_count": 8,
     "metadata": {},
     "output_type": "execute_result"
    }
   ],
   "source": [
    "df=pd.DataFrame(\n",
    "    {\n",
    "        'lower':[0,5,10,20,40],\n",
    "        'upper':[5,10,20,40,60],\n",
    "        'no. of bulbs':[4,9,38,33,16]\n",
    "    \n",
    "    }\n",
    ")\n",
    "df\n"
   ]
  },
  {
   "cell_type": "code",
   "execution_count": 11,
   "metadata": {},
   "outputs": [
    {
     "data": {
      "text/html": [
       "<div>\n",
       "<style scoped>\n",
       "    .dataframe tbody tr th:only-of-type {\n",
       "        vertical-align: middle;\n",
       "    }\n",
       "\n",
       "    .dataframe tbody tr th {\n",
       "        vertical-align: top;\n",
       "    }\n",
       "\n",
       "    .dataframe thead th {\n",
       "        text-align: right;\n",
       "    }\n",
       "</style>\n",
       "<table border=\"1\" class=\"dataframe\">\n",
       "  <thead>\n",
       "    <tr style=\"text-align: right;\">\n",
       "      <th></th>\n",
       "      <th>lower</th>\n",
       "      <th>upper</th>\n",
       "      <th>no. of bulbs</th>\n",
       "      <th>midpoint</th>\n",
       "      <th>X^2</th>\n",
       "      <th>fx</th>\n",
       "      <th>fx^2</th>\n",
       "    </tr>\n",
       "  </thead>\n",
       "  <tbody>\n",
       "    <tr>\n",
       "      <th>0</th>\n",
       "      <td>0</td>\n",
       "      <td>5</td>\n",
       "      <td>4</td>\n",
       "      <td>2.5</td>\n",
       "      <td>6.25</td>\n",
       "      <td>10.0</td>\n",
       "      <td>25.00</td>\n",
       "    </tr>\n",
       "    <tr>\n",
       "      <th>1</th>\n",
       "      <td>5</td>\n",
       "      <td>10</td>\n",
       "      <td>9</td>\n",
       "      <td>7.5</td>\n",
       "      <td>56.25</td>\n",
       "      <td>67.5</td>\n",
       "      <td>506.25</td>\n",
       "    </tr>\n",
       "    <tr>\n",
       "      <th>2</th>\n",
       "      <td>10</td>\n",
       "      <td>20</td>\n",
       "      <td>38</td>\n",
       "      <td>15.0</td>\n",
       "      <td>225.00</td>\n",
       "      <td>570.0</td>\n",
       "      <td>8550.00</td>\n",
       "    </tr>\n",
       "    <tr>\n",
       "      <th>3</th>\n",
       "      <td>20</td>\n",
       "      <td>40</td>\n",
       "      <td>33</td>\n",
       "      <td>30.0</td>\n",
       "      <td>900.00</td>\n",
       "      <td>990.0</td>\n",
       "      <td>29700.00</td>\n",
       "    </tr>\n",
       "    <tr>\n",
       "      <th>4</th>\n",
       "      <td>40</td>\n",
       "      <td>60</td>\n",
       "      <td>16</td>\n",
       "      <td>50.0</td>\n",
       "      <td>2500.00</td>\n",
       "      <td>800.0</td>\n",
       "      <td>40000.00</td>\n",
       "    </tr>\n",
       "  </tbody>\n",
       "</table>\n",
       "</div>"
      ],
      "text/plain": [
       "   lower  upper  no. of bulbs  midpoint      X^2     fx      fx^2\n",
       "0      0      5             4       2.5     6.25   10.0     25.00\n",
       "1      5     10             9       7.5    56.25   67.5    506.25\n",
       "2     10     20            38      15.0   225.00  570.0   8550.00\n",
       "3     20     40            33      30.0   900.00  990.0  29700.00\n",
       "4     40     60            16      50.0  2500.00  800.0  40000.00"
      ]
     },
     "execution_count": 11,
     "metadata": {},
     "output_type": "execute_result"
    }
   ],
   "source": [
    "df['midpoint']=(df['upper']+df['lower'])/2\n",
    "df['X^2']=np.power(df['midpoint'],2)\n",
    "df['fx']=df['midpoint'] * df['no. of bulbs']\n",
    "df['fx^2']=df['X^2'] * df['no. of bulbs']\n",
    "\n",
    "df"
   ]
  },
  {
   "cell_type": "code",
   "execution_count": 13,
   "metadata": {},
   "outputs": [
    {
     "name": "stdout",
     "output_type": "stream",
     "text": [
      "Variance of grouped data is 193.671875\n"
     ]
    }
   ],
   "source": [
    "variance= (np.sum(df['fx^2']))/np.sum(df['no. of bulbs']) - np.power((np.sum(df['fx'])/np.sum(df['no. of bulbs'])),2)\n",
    "print('Variance of grouped data is',variance)"
   ]
  },
  {
   "cell_type": "markdown",
   "metadata": {},
   "source": [
    "## STANDARD DEVIATION\n",
    "### Ungrouped Data\n",
    "Formula: square root of variance"
   ]
  },
  {
   "cell_type": "code",
   "execution_count": 18,
   "metadata": {},
   "outputs": [
    {
     "name": "stdout",
     "output_type": "stream",
     "text": [
      "Standard Devation of ungrouped data is 2.572582713574399\n",
      "Standard devaition using Numpy is 2.4528613751330983\n"
     ]
    }
   ],
   "source": [
    "std_ungrouped=np.sqrt(variance_ungrouped)\n",
    "print('Standard Devation of ungrouped data is',std_ungrouped)\n",
    "print('Standard devaition using Numpy is',np.std(lis))"
   ]
  },
  {
   "cell_type": "markdown",
   "metadata": {},
   "source": [
    "### Grouped Data\n",
    "Formula: Square root of Variance"
   ]
  },
  {
   "cell_type": "code",
   "execution_count": 16,
   "metadata": {},
   "outputs": [
    {
     "name": "stdout",
     "output_type": "stream",
     "text": [
      "Standard Devation of grouped data is 13.91660429127738\n"
     ]
    }
   ],
   "source": [
    "std=np.sqrt(variance)\n",
    "print('Standard Devation of grouped data is',std)\n"
   ]
  },
  {
   "cell_type": "markdown",
   "metadata": {},
   "source": [
    "### COEFFICIENT OF VARIATION"
   ]
  },
  {
   "cell_type": "code",
   "execution_count": 20,
   "metadata": {},
   "outputs": [
    {
     "name": "stdout",
     "output_type": "stream",
     "text": [
      "Coefficient of Variation is 54.4200189409969\n"
     ]
    }
   ],
   "source": [
    "variation=(std_ungrouped/np.mean(lis))*100\n",
    "print('Coefficient of Variation is',variation)"
   ]
  },
  {
   "cell_type": "markdown",
   "metadata": {},
   "source": [
    "## **<center>MEASURE OF SKEWNESS AND KURTOSIS</center>**"
   ]
  },
  {
   "cell_type": "markdown",
   "metadata": {},
   "source": [
    "## **KARL PEARSON'S METHOD**\n",
    "### SK=3(MEAN-MEDIAN)/SD"
   ]
  },
  {
   "cell_type": "code",
   "execution_count": 31,
   "metadata": {},
   "outputs": [
    {
     "data": {
      "text/html": [
       "<div>\n",
       "<style scoped>\n",
       "    .dataframe tbody tr th:only-of-type {\n",
       "        vertical-align: middle;\n",
       "    }\n",
       "\n",
       "    .dataframe tbody tr th {\n",
       "        vertical-align: top;\n",
       "    }\n",
       "\n",
       "    .dataframe thead th {\n",
       "        text-align: right;\n",
       "    }\n",
       "</style>\n",
       "<table border=\"1\" class=\"dataframe\">\n",
       "  <thead>\n",
       "    <tr style=\"text-align: right;\">\n",
       "      <th></th>\n",
       "      <th>lower_class</th>\n",
       "      <th>upper_class</th>\n",
       "      <th>Frequency</th>\n",
       "      <th>lower_boundary</th>\n",
       "      <th>upper_boundary</th>\n",
       "      <th>X</th>\n",
       "      <th>X^2</th>\n",
       "      <th>CF</th>\n",
       "      <th>fx</th>\n",
       "      <th>fx^2</th>\n",
       "    </tr>\n",
       "  </thead>\n",
       "  <tbody>\n",
       "    <tr>\n",
       "      <th>0</th>\n",
       "      <td>65</td>\n",
       "      <td>84</td>\n",
       "      <td>9</td>\n",
       "      <td>64.5</td>\n",
       "      <td>84.5</td>\n",
       "      <td>74.5</td>\n",
       "      <td>5550.25</td>\n",
       "      <td>9.0</td>\n",
       "      <td>670.5</td>\n",
       "      <td>49952.25</td>\n",
       "    </tr>\n",
       "    <tr>\n",
       "      <th>1</th>\n",
       "      <td>85</td>\n",
       "      <td>104</td>\n",
       "      <td>10</td>\n",
       "      <td>84.5</td>\n",
       "      <td>104.5</td>\n",
       "      <td>94.5</td>\n",
       "      <td>8930.25</td>\n",
       "      <td>19.0</td>\n",
       "      <td>945.0</td>\n",
       "      <td>89302.50</td>\n",
       "    </tr>\n",
       "    <tr>\n",
       "      <th>2</th>\n",
       "      <td>105</td>\n",
       "      <td>124</td>\n",
       "      <td>17</td>\n",
       "      <td>104.5</td>\n",
       "      <td>124.5</td>\n",
       "      <td>114.5</td>\n",
       "      <td>13110.25</td>\n",
       "      <td>36.0</td>\n",
       "      <td>1946.5</td>\n",
       "      <td>222874.25</td>\n",
       "    </tr>\n",
       "    <tr>\n",
       "      <th>3</th>\n",
       "      <td>125</td>\n",
       "      <td>144</td>\n",
       "      <td>10</td>\n",
       "      <td>124.5</td>\n",
       "      <td>144.5</td>\n",
       "      <td>134.5</td>\n",
       "      <td>18090.25</td>\n",
       "      <td>46.0</td>\n",
       "      <td>1345.0</td>\n",
       "      <td>180902.50</td>\n",
       "    </tr>\n",
       "    <tr>\n",
       "      <th>4</th>\n",
       "      <td>145</td>\n",
       "      <td>164</td>\n",
       "      <td>5</td>\n",
       "      <td>144.5</td>\n",
       "      <td>164.5</td>\n",
       "      <td>154.5</td>\n",
       "      <td>23870.25</td>\n",
       "      <td>51.0</td>\n",
       "      <td>772.5</td>\n",
       "      <td>119351.25</td>\n",
       "    </tr>\n",
       "    <tr>\n",
       "      <th>5</th>\n",
       "      <td>165</td>\n",
       "      <td>184</td>\n",
       "      <td>4</td>\n",
       "      <td>164.5</td>\n",
       "      <td>184.5</td>\n",
       "      <td>174.5</td>\n",
       "      <td>30450.25</td>\n",
       "      <td>55.0</td>\n",
       "      <td>698.0</td>\n",
       "      <td>121801.00</td>\n",
       "    </tr>\n",
       "    <tr>\n",
       "      <th>6</th>\n",
       "      <td>185</td>\n",
       "      <td>204</td>\n",
       "      <td>5</td>\n",
       "      <td>184.5</td>\n",
       "      <td>204.5</td>\n",
       "      <td>194.5</td>\n",
       "      <td>37830.25</td>\n",
       "      <td>60.0</td>\n",
       "      <td>972.5</td>\n",
       "      <td>189151.25</td>\n",
       "    </tr>\n",
       "  </tbody>\n",
       "</table>\n",
       "</div>"
      ],
      "text/plain": [
       "   lower_class  upper_class  Frequency  lower_boundary  upper_boundary      X  \\\n",
       "0           65           84          9            64.5            84.5   74.5   \n",
       "1           85          104         10            84.5           104.5   94.5   \n",
       "2          105          124         17           104.5           124.5  114.5   \n",
       "3          125          144         10           124.5           144.5  134.5   \n",
       "4          145          164          5           144.5           164.5  154.5   \n",
       "5          165          184          4           164.5           184.5  174.5   \n",
       "6          185          204          5           184.5           204.5  194.5   \n",
       "\n",
       "        X^2    CF      fx       fx^2  \n",
       "0   5550.25   9.0   670.5   49952.25  \n",
       "1   8930.25  19.0   945.0   89302.50  \n",
       "2  13110.25  36.0  1946.5  222874.25  \n",
       "3  18090.25  46.0  1345.0  180902.50  \n",
       "4  23870.25  51.0   772.5  119351.25  \n",
       "5  30450.25  55.0   698.0  121801.00  \n",
       "6  37830.25  60.0   972.5  189151.25  "
      ]
     },
     "execution_count": 31,
     "metadata": {},
     "output_type": "execute_result"
    }
   ],
   "source": [
    "df=pd.DataFrame(\n",
    "    {\n",
    "     'lower_class': [65,85,105,125,145,165,185],\n",
    "        'upper_class':[84,104,124,144,164,184,204],\n",
    "            'Frequency':[9,10,17,10,5,4,5]\n",
    "    }\n",
    ")\n",
    "df['lower_boundary']=df['lower_class']-0.5\n",
    "df['upper_boundary']=df['upper_class']+0.5\n",
    "df['X']=(df['upper_boundary']+df['lower_boundary'])/2\n",
    "df['X^2']=np.power(df['X'],2)\n",
    "\n",
    "df.loc[0,'CF']=df.loc[0,'Frequency']\n",
    "for i in range(1,len(df)):\n",
    "    df.loc[i,'CF']=df.loc[i-1,'CF']+df.loc[i,'Frequency']\n",
    "df['fx']=df['Frequency']*df['X']\n",
    "df['fx^2']=df['X^2']*df['Frequency']\n",
    "df\n"
   ]
  },
  {
   "cell_type": "code",
   "execution_count": 33,
   "metadata": {},
   "outputs": [
    {
     "name": "stdout",
     "output_type": "stream",
     "text": [
      "Measure of skewness is 0.4352151421956248\n"
     ]
    }
   ],
   "source": [
    "mean=np.sum(df['Frequency']*df['X'])/np.sum(df['Frequency'])\n",
    "sum=np.sum(df['Frequency'])\n",
    "var=sum/2\n",
    "median_class=df[df['CF']>var]\n",
    "\n",
    "median_index=median_class.index[0]\n",
    "median_index\n",
    "\n",
    "f=df['Frequency'][median_index]\n",
    "h=df['upper_boundary'][median_index]-df['lower_boundary'][median_index]\n",
    "i=df['lower_boundary'][median_index]\n",
    "c=df['CF'][median_index-1]\n",
    "\n",
    "Median=i+((h/f)*(((sum/2))-c))\n",
    "\n",
    "Std_grouped=np.sqrt( (np.sum(df['fx^2']))/np.sum(df['Frequency']) - np.power((np.sum(df['fx'])/np.sum(df['Frequency'])),2) )\n",
    "pearson=(3*(mean-Median))/Std_grouped\n",
    "print('Measure of skewness is',pearson)\n"
   ]
  }
 ],
 "metadata": {
  "colab": {
   "provenance": []
  },
  "kernelspec": {
   "display_name": "Python 3",
   "language": "python",
   "name": "python3"
  },
  "language_info": {
   "codemirror_mode": {
    "name": "ipython",
    "version": 3
   },
   "file_extension": ".py",
   "mimetype": "text/x-python",
   "name": "python",
   "nbconvert_exporter": "python",
   "pygments_lexer": "ipython3",
   "version": "3.12.2"
  }
 },
 "nbformat": 4,
 "nbformat_minor": 0
}
